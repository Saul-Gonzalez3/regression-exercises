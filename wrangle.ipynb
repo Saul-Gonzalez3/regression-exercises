{
 "cells": [
  {
   "cell_type": "code",
   "execution_count": 1,
   "id": "4bf67d2b-549b-499b-9bcb-b466a0c77832",
   "metadata": {
    "tags": []
   },
   "outputs": [],
   "source": [
    "import numpy as np\n",
    "import pandas as pd\n",
    "from sklearn.model_selection import train_test_split\n",
    "import acquire\n",
    "import os\n",
    "import env\n",
    "from sklearn.preprocessing import MinMaxScaler\n",
    "from scipy import stats\n",
    "\n",
    "import pandas as pd\n",
    "import numpy as np\n",
    "import matplotlib.pyplot as plt\n",
    "import os\n",
    "import seaborn as sns\n",
    "from scipy import stats\n",
    "\n",
    "# import splitting and imputing functions\n",
    "from sklearn.model_selection import train_test_split\n",
    "from sklearn.impute import SimpleImputer\n",
    "\n",
    "# turn off pink boxes for demo\n",
    "import warnings\n",
    "warnings.filterwarnings(\"ignore\")\n",
    "\n",
    "# import our own acquire module\n",
    "import env\n",
    "import acquire\n",
    "import wrangle\n",
    "\n",
    "# imports for modeling:\n",
    "# import Logistic regression\n",
    "from sklearn.linear_model import LogisticRegression\n",
    "# import K Nearest neighbors:\n",
    "from sklearn.neighbors import KNeighborsClassifier\n",
    "# import Decision Trees:\n",
    "from sklearn.tree import DecisionTreeClassifier, export_text, plot_tree\n",
    "# import Random Forest:\n",
    "from sklearn.ensemble import RandomForestClassifier\n",
    "\n",
    "from sklearn.metrics import classification_report, confusion_matrix\n",
    "\n",
    "# interpreting our models:\n",
    "import matplotlib.pyplot as plt\n",
    "from sklearn.metrics import accuracy_score, confusion_matrix, classification_report\n",
    "\n",
    "\n",
    "directory = os.getcwd()"
   ]
  },
  {
   "cell_type": "code",
   "execution_count": 2,
   "id": "81a1cc3a-7f21-4a60-a46f-b9c09ed62d33",
   "metadata": {
    "tags": []
   },
   "outputs": [],
   "source": [
    "def get_connection_url(db, user=env.user, host=env.host, password=env.password):\n",
    "    \"\"\"\n",
    "    This function will:\n",
    "    - take username, pswd, host credentials from imported env module\n",
    "    - output a formatted connection_url to access mySQL db\n",
    "    \"\"\"\n",
    "    return f'mysql+pymysql://{user}:{password}@{host}/{db}'"
   ]
  },
  {
   "cell_type": "code",
   "execution_count": 3,
   "id": "0d2acfcc-a32c-4b8c-9c7f-03114f37a9b3",
   "metadata": {
    "tags": []
   },
   "outputs": [],
   "source": [
    "SQL_query = '''\n",
    "SELECT bedroomcnt, \n",
    "bathroomcnt, \n",
    "calculatedfinishedsquarefeet, \n",
    "taxvaluedollarcnt, \n",
    "yearbuilt, \n",
    "taxamount, \n",
    "fips \n",
    "FROM properties_2017 \n",
    "WHERE propertylandusetypeid  = 261\n",
    "'''"
   ]
  },
  {
   "cell_type": "code",
   "execution_count": 4,
   "id": "cd4a7f07-a9d5-44b5-87e2-f08e623f455e",
   "metadata": {
    "tags": []
   },
   "outputs": [],
   "source": [
    "def new_zillow_data(SQL_query):\n",
    "    \"\"\"\n",
    "    This function will:\n",
    "    - take in a SQL_query\n",
    "    - create a connection_url to mySQL\n",
    "    - return a df of the given query from the zillow db\n",
    "    \"\"\"\n",
    "    url = get_connection_url('zillow')\n",
    "    \n",
    "    return pd.read_sql(SQL_query, url)"
   ]
  },
  {
   "cell_type": "code",
   "execution_count": 5,
   "id": "9c41d791-6439-4a78-9060-6ab35bb7484f",
   "metadata": {
    "tags": []
   },
   "outputs": [],
   "source": [
    "def get_zillow_data(SQL_query, directory, filename = 'zillow.csv'):\n",
    "    \"\"\"\n",
    "    This function will:\n",
    "    - Check local directory for csv file\n",
    "        - return if exists\n",
    "    - if csv doesn't exist:\n",
    "        - creates df of sql query\n",
    "        - writes df to csv\n",
    "    - outputs zillow df\n",
    "    \"\"\"\n",
    "    if os.path.exists(directory+filename): \n",
    "        df = pd.read_csv(filename)\n",
    "        return df\n",
    "    else:\n",
    "        df = new_zillow_data(SQL_query)\n",
    "\n",
    "        df.to_csv(filename)\n",
    "        return df"
   ]
  },
  {
   "cell_type": "markdown",
   "id": "4a1d89d4-7d90-4e24-95ab-13c252420f35",
   "metadata": {},
   "source": [
    "**Let's get our data**"
   ]
  },
  {
   "cell_type": "code",
   "execution_count": 6,
   "id": "f4beb083-16df-4a40-9bae-f60aa521e64b",
   "metadata": {
    "tags": []
   },
   "outputs": [
    {
     "data": {
      "text/html": [
       "<div>\n",
       "<style scoped>\n",
       "    .dataframe tbody tr th:only-of-type {\n",
       "        vertical-align: middle;\n",
       "    }\n",
       "\n",
       "    .dataframe tbody tr th {\n",
       "        vertical-align: top;\n",
       "    }\n",
       "\n",
       "    .dataframe thead th {\n",
       "        text-align: right;\n",
       "    }\n",
       "</style>\n",
       "<table border=\"1\" class=\"dataframe\">\n",
       "  <thead>\n",
       "    <tr style=\"text-align: right;\">\n",
       "      <th></th>\n",
       "      <th>bedroomcnt</th>\n",
       "      <th>bathroomcnt</th>\n",
       "      <th>calculatedfinishedsquarefeet</th>\n",
       "      <th>taxvaluedollarcnt</th>\n",
       "      <th>yearbuilt</th>\n",
       "      <th>taxamount</th>\n",
       "      <th>fips</th>\n",
       "    </tr>\n",
       "  </thead>\n",
       "  <tbody>\n",
       "    <tr>\n",
       "      <th>0</th>\n",
       "      <td>0.0</td>\n",
       "      <td>0.0</td>\n",
       "      <td>NaN</td>\n",
       "      <td>27516.0</td>\n",
       "      <td>NaN</td>\n",
       "      <td>NaN</td>\n",
       "      <td>6037.0</td>\n",
       "    </tr>\n",
       "    <tr>\n",
       "      <th>1</th>\n",
       "      <td>0.0</td>\n",
       "      <td>0.0</td>\n",
       "      <td>NaN</td>\n",
       "      <td>10.0</td>\n",
       "      <td>NaN</td>\n",
       "      <td>NaN</td>\n",
       "      <td>6037.0</td>\n",
       "    </tr>\n",
       "    <tr>\n",
       "      <th>2</th>\n",
       "      <td>0.0</td>\n",
       "      <td>0.0</td>\n",
       "      <td>NaN</td>\n",
       "      <td>10.0</td>\n",
       "      <td>NaN</td>\n",
       "      <td>NaN</td>\n",
       "      <td>6037.0</td>\n",
       "    </tr>\n",
       "    <tr>\n",
       "      <th>3</th>\n",
       "      <td>0.0</td>\n",
       "      <td>0.0</td>\n",
       "      <td>NaN</td>\n",
       "      <td>2108.0</td>\n",
       "      <td>NaN</td>\n",
       "      <td>174.21</td>\n",
       "      <td>6037.0</td>\n",
       "    </tr>\n",
       "    <tr>\n",
       "      <th>4</th>\n",
       "      <td>4.0</td>\n",
       "      <td>2.0</td>\n",
       "      <td>3633.0</td>\n",
       "      <td>296425.0</td>\n",
       "      <td>2005.0</td>\n",
       "      <td>6941.39</td>\n",
       "      <td>6037.0</td>\n",
       "    </tr>\n",
       "  </tbody>\n",
       "</table>\n",
       "</div>"
      ],
      "text/plain": [
       "   bedroomcnt  bathroomcnt  calculatedfinishedsquarefeet  taxvaluedollarcnt  \\\n",
       "0         0.0          0.0                           NaN            27516.0   \n",
       "1         0.0          0.0                           NaN               10.0   \n",
       "2         0.0          0.0                           NaN               10.0   \n",
       "3         0.0          0.0                           NaN             2108.0   \n",
       "4         4.0          2.0                        3633.0           296425.0   \n",
       "\n",
       "   yearbuilt  taxamount    fips  \n",
       "0        NaN        NaN  6037.0  \n",
       "1        NaN        NaN  6037.0  \n",
       "2        NaN        NaN  6037.0  \n",
       "3        NaN     174.21  6037.0  \n",
       "4     2005.0    6941.39  6037.0  "
      ]
     },
     "execution_count": 6,
     "metadata": {},
     "output_type": "execute_result"
    }
   ],
   "source": [
    "df = get_zillow_data(SQL_query, directory)\n",
    "df.head()"
   ]
  },
  {
   "cell_type": "markdown",
   "id": "7c9877bf-406b-4262-8bf8-14b1674b69f9",
   "metadata": {
    "tags": []
   },
   "source": [
    "**Now for some exploratory looks at the data**"
   ]
  },
  {
   "cell_type": "code",
   "execution_count": 7,
   "id": "b2d4d449-3431-4adc-a3ee-c39bbc16f448",
   "metadata": {
    "tags": []
   },
   "outputs": [
    {
     "data": {
      "text/plain": [
       "(2152863, 7)"
      ]
     },
     "execution_count": 7,
     "metadata": {},
     "output_type": "execute_result"
    }
   ],
   "source": [
    "df.shape"
   ]
  },
  {
   "cell_type": "code",
   "execution_count": 8,
   "id": "d5a696d0-d49f-49ae-9713-cb5e672a433a",
   "metadata": {
    "tags": []
   },
   "outputs": [
    {
     "name": "stdout",
     "output_type": "stream",
     "text": [
      "<class 'pandas.core.frame.DataFrame'>\n",
      "RangeIndex: 2152863 entries, 0 to 2152862\n",
      "Data columns (total 7 columns):\n",
      " #   Column                        Non-Null Count    Dtype  \n",
      "---  ------                        --------------    -----  \n",
      " 0   bedroomcnt                    2152852 non-null  float64\n",
      " 1   bathroomcnt                   2152852 non-null  float64\n",
      " 2   calculatedfinishedsquarefeet  2144379 non-null  float64\n",
      " 3   taxvaluedollarcnt             2152370 non-null  float64\n",
      " 4   yearbuilt                     2143526 non-null  float64\n",
      " 5   taxamount                     2148421 non-null  float64\n",
      " 6   fips                          2152863 non-null  float64\n",
      "dtypes: float64(7)\n",
      "memory usage: 115.0 MB\n"
     ]
    }
   ],
   "source": [
    "df.info(show_counts = True)"
   ]
  },
  {
   "cell_type": "code",
   "execution_count": 9,
   "id": "bb11736b-fda5-4851-b6e9-861a24742afa",
   "metadata": {
    "tags": []
   },
   "outputs": [
    {
     "data": {
      "text/html": [
       "<div>\n",
       "<style scoped>\n",
       "    .dataframe tbody tr th:only-of-type {\n",
       "        vertical-align: middle;\n",
       "    }\n",
       "\n",
       "    .dataframe tbody tr th {\n",
       "        vertical-align: top;\n",
       "    }\n",
       "\n",
       "    .dataframe thead th {\n",
       "        text-align: right;\n",
       "    }\n",
       "</style>\n",
       "<table border=\"1\" class=\"dataframe\">\n",
       "  <thead>\n",
       "    <tr style=\"text-align: right;\">\n",
       "      <th></th>\n",
       "      <th>bedroomcnt</th>\n",
       "      <th>bathroomcnt</th>\n",
       "      <th>calculatedfinishedsquarefeet</th>\n",
       "      <th>taxvaluedollarcnt</th>\n",
       "      <th>yearbuilt</th>\n",
       "      <th>taxamount</th>\n",
       "      <th>fips</th>\n",
       "    </tr>\n",
       "  </thead>\n",
       "  <tbody>\n",
       "    <tr>\n",
       "      <th>count</th>\n",
       "      <td>2.152852e+06</td>\n",
       "      <td>2.152852e+06</td>\n",
       "      <td>2.144379e+06</td>\n",
       "      <td>2.152370e+06</td>\n",
       "      <td>2.143526e+06</td>\n",
       "      <td>2.148421e+06</td>\n",
       "      <td>2.152863e+06</td>\n",
       "    </tr>\n",
       "    <tr>\n",
       "      <th>mean</th>\n",
       "      <td>3.287196e+00</td>\n",
       "      <td>2.230688e+00</td>\n",
       "      <td>1.862855e+03</td>\n",
       "      <td>4.618962e+05</td>\n",
       "      <td>1.960950e+03</td>\n",
       "      <td>5.634866e+03</td>\n",
       "      <td>6.048377e+03</td>\n",
       "    </tr>\n",
       "    <tr>\n",
       "      <th>std</th>\n",
       "      <td>9.547544e-01</td>\n",
       "      <td>9.992796e-01</td>\n",
       "      <td>1.222125e+03</td>\n",
       "      <td>6.996760e+05</td>\n",
       "      <td>2.216220e+01</td>\n",
       "      <td>8.178910e+03</td>\n",
       "      <td>2.043329e+01</td>\n",
       "    </tr>\n",
       "    <tr>\n",
       "      <th>min</th>\n",
       "      <td>0.000000e+00</td>\n",
       "      <td>0.000000e+00</td>\n",
       "      <td>1.000000e+00</td>\n",
       "      <td>1.000000e+00</td>\n",
       "      <td>1.801000e+03</td>\n",
       "      <td>1.850000e+00</td>\n",
       "      <td>6.037000e+03</td>\n",
       "    </tr>\n",
       "    <tr>\n",
       "      <th>25%</th>\n",
       "      <td>3.000000e+00</td>\n",
       "      <td>2.000000e+00</td>\n",
       "      <td>1.257000e+03</td>\n",
       "      <td>1.881702e+05</td>\n",
       "      <td>1.949000e+03</td>\n",
       "      <td>2.534980e+03</td>\n",
       "      <td>6.037000e+03</td>\n",
       "    </tr>\n",
       "    <tr>\n",
       "      <th>50%</th>\n",
       "      <td>3.000000e+00</td>\n",
       "      <td>2.000000e+00</td>\n",
       "      <td>1.623000e+03</td>\n",
       "      <td>3.276710e+05</td>\n",
       "      <td>1.958000e+03</td>\n",
       "      <td>4.108950e+03</td>\n",
       "      <td>6.037000e+03</td>\n",
       "    </tr>\n",
       "    <tr>\n",
       "      <th>75%</th>\n",
       "      <td>4.000000e+00</td>\n",
       "      <td>3.000000e+00</td>\n",
       "      <td>2.208000e+03</td>\n",
       "      <td>5.345270e+05</td>\n",
       "      <td>1.976000e+03</td>\n",
       "      <td>6.414320e+03</td>\n",
       "      <td>6.059000e+03</td>\n",
       "    </tr>\n",
       "    <tr>\n",
       "      <th>max</th>\n",
       "      <td>2.500000e+01</td>\n",
       "      <td>3.200000e+01</td>\n",
       "      <td>9.525760e+05</td>\n",
       "      <td>9.842891e+07</td>\n",
       "      <td>2.016000e+03</td>\n",
       "      <td>1.337756e+06</td>\n",
       "      <td>6.111000e+03</td>\n",
       "    </tr>\n",
       "  </tbody>\n",
       "</table>\n",
       "</div>"
      ],
      "text/plain": [
       "         bedroomcnt   bathroomcnt  calculatedfinishedsquarefeet  \\\n",
       "count  2.152852e+06  2.152852e+06                  2.144379e+06   \n",
       "mean   3.287196e+00  2.230688e+00                  1.862855e+03   \n",
       "std    9.547544e-01  9.992796e-01                  1.222125e+03   \n",
       "min    0.000000e+00  0.000000e+00                  1.000000e+00   \n",
       "25%    3.000000e+00  2.000000e+00                  1.257000e+03   \n",
       "50%    3.000000e+00  2.000000e+00                  1.623000e+03   \n",
       "75%    4.000000e+00  3.000000e+00                  2.208000e+03   \n",
       "max    2.500000e+01  3.200000e+01                  9.525760e+05   \n",
       "\n",
       "       taxvaluedollarcnt     yearbuilt     taxamount          fips  \n",
       "count       2.152370e+06  2.143526e+06  2.148421e+06  2.152863e+06  \n",
       "mean        4.618962e+05  1.960950e+03  5.634866e+03  6.048377e+03  \n",
       "std         6.996760e+05  2.216220e+01  8.178910e+03  2.043329e+01  \n",
       "min         1.000000e+00  1.801000e+03  1.850000e+00  6.037000e+03  \n",
       "25%         1.881702e+05  1.949000e+03  2.534980e+03  6.037000e+03  \n",
       "50%         3.276710e+05  1.958000e+03  4.108950e+03  6.037000e+03  \n",
       "75%         5.345270e+05  1.976000e+03  6.414320e+03  6.059000e+03  \n",
       "max         9.842891e+07  2.016000e+03  1.337756e+06  6.111000e+03  "
      ]
     },
     "execution_count": 9,
     "metadata": {},
     "output_type": "execute_result"
    }
   ],
   "source": [
    "df.describe()"
   ]
  },
  {
   "cell_type": "markdown",
   "id": "ec7b4f2e-4cd5-4865-a561-6afd37535717",
   "metadata": {},
   "source": [
    "**Do we have any nulls?**"
   ]
  },
  {
   "cell_type": "code",
   "execution_count": 10,
   "id": "0b6c7184-c832-41f4-a209-4c9f2fcb3d70",
   "metadata": {
    "tags": []
   },
   "outputs": [
    {
     "data": {
      "text/plain": [
       "bedroomcnt                        11\n",
       "bathroomcnt                       11\n",
       "calculatedfinishedsquarefeet    8484\n",
       "taxvaluedollarcnt                493\n",
       "yearbuilt                       9337\n",
       "taxamount                       4442\n",
       "fips                               0\n",
       "dtype: int64"
      ]
     },
     "execution_count": 10,
     "metadata": {},
     "output_type": "execute_result"
    }
   ],
   "source": [
    "df.isnull().sum() #Quite a bit of nulls"
   ]
  },
  {
   "cell_type": "code",
   "execution_count": 11,
   "id": "814f640c-5aef-4ff8-906e-eb6219cfb5e1",
   "metadata": {
    "tags": []
   },
   "outputs": [],
   "source": [
    "df = df.dropna() # Because there are 2152863 rows, dropping them shouldn't hurt the data so much"
   ]
  },
  {
   "cell_type": "code",
   "execution_count": 12,
   "id": "527e9ea2-0411-448a-aa79-990b7f62a4b4",
   "metadata": {
    "tags": []
   },
   "outputs": [
    {
     "name": "stdout",
     "output_type": "stream",
     "text": [
      "<class 'pandas.core.frame.DataFrame'>\n",
      "Int64Index: 2140235 entries, 4 to 2152862\n",
      "Data columns (total 7 columns):\n",
      " #   Column                        Dtype  \n",
      "---  ------                        -----  \n",
      " 0   bedroomcnt                    float64\n",
      " 1   bathroomcnt                   float64\n",
      " 2   calculatedfinishedsquarefeet  float64\n",
      " 3   taxvaluedollarcnt             float64\n",
      " 4   yearbuilt                     float64\n",
      " 5   taxamount                     float64\n",
      " 6   fips                          float64\n",
      "dtypes: float64(7)\n",
      "memory usage: 130.6 MB\n"
     ]
    }
   ],
   "source": [
    "df.info() #Looking at the data after dropping the nulls"
   ]
  },
  {
   "cell_type": "code",
   "execution_count": 13,
   "id": "717bd5e1-a93d-4b77-b8d7-58ec99f0a73b",
   "metadata": {
    "tags": []
   },
   "outputs": [
    {
     "data": {
      "text/plain": [
       "bedroomcnt                      0\n",
       "bathroomcnt                     0\n",
       "calculatedfinishedsquarefeet    0\n",
       "taxvaluedollarcnt               0\n",
       "yearbuilt                       0\n",
       "taxamount                       0\n",
       "fips                            0\n",
       "dtype: int64"
      ]
     },
     "execution_count": 13,
     "metadata": {},
     "output_type": "execute_result"
    }
   ],
   "source": [
    "df.isnull().sum() #Nulls Be Gone"
   ]
  },
  {
   "cell_type": "code",
   "execution_count": 14,
   "id": "21bc5ac4-347b-41b3-bfc1-1b98f8e76be0",
   "metadata": {
    "tags": []
   },
   "outputs": [
    {
     "name": "stdout",
     "output_type": "stream",
     "text": [
      "<class 'pandas.core.frame.DataFrame'>\n",
      "Int64Index: 2140235 entries, 4 to 2152862\n",
      "Data columns (total 7 columns):\n",
      " #   Column                        Non-Null Count    Dtype  \n",
      "---  ------                        --------------    -----  \n",
      " 0   bedroomcnt                    2140235 non-null  float64\n",
      " 1   bathroomcnt                   2140235 non-null  float64\n",
      " 2   calculatedfinishedsquarefeet  2140235 non-null  float64\n",
      " 3   taxvaluedollarcnt             2140235 non-null  float64\n",
      " 4   yearbuilt                     2140235 non-null  float64\n",
      " 5   taxamount                     2140235 non-null  float64\n",
      " 6   fips                          2140235 non-null  float64\n",
      "dtypes: float64(7)\n",
      "memory usage: 130.6 MB\n"
     ]
    }
   ],
   "source": [
    "df.info(show_counts=True)"
   ]
  },
  {
   "cell_type": "code",
   "execution_count": 15,
   "id": "da14a9ff-8897-4726-87f4-0d7e385dd1f5",
   "metadata": {
    "tags": []
   },
   "outputs": [],
   "source": [
    "df.bedroomcnt = df.bedroomcnt.astype(int) # This is to change the data in 'bedroomcnt' to a whole number"
   ]
  },
  {
   "cell_type": "code",
   "execution_count": 16,
   "id": "24b131ed-294d-47ef-b5de-6f8a45f097a8",
   "metadata": {
    "tags": []
   },
   "outputs": [],
   "source": [
    "df.yearbuilt = df.yearbuilt.astype(int) # This is to change the data in 'yearbuilt' to a whole number"
   ]
  },
  {
   "cell_type": "code",
   "execution_count": 17,
   "id": "045cbceb-2295-4213-acff-f79efa1fef9d",
   "metadata": {
    "tags": []
   },
   "outputs": [
    {
     "data": {
      "text/html": [
       "<div>\n",
       "<style scoped>\n",
       "    .dataframe tbody tr th:only-of-type {\n",
       "        vertical-align: middle;\n",
       "    }\n",
       "\n",
       "    .dataframe tbody tr th {\n",
       "        vertical-align: top;\n",
       "    }\n",
       "\n",
       "    .dataframe thead th {\n",
       "        text-align: right;\n",
       "    }\n",
       "</style>\n",
       "<table border=\"1\" class=\"dataframe\">\n",
       "  <thead>\n",
       "    <tr style=\"text-align: right;\">\n",
       "      <th></th>\n",
       "      <th>bedroomcnt</th>\n",
       "      <th>bathroomcnt</th>\n",
       "      <th>calculatedfinishedsquarefeet</th>\n",
       "      <th>taxvaluedollarcnt</th>\n",
       "      <th>yearbuilt</th>\n",
       "      <th>taxamount</th>\n",
       "      <th>fips</th>\n",
       "    </tr>\n",
       "  </thead>\n",
       "  <tbody>\n",
       "    <tr>\n",
       "      <th>4</th>\n",
       "      <td>4</td>\n",
       "      <td>2.0</td>\n",
       "      <td>3633.0</td>\n",
       "      <td>296425.0</td>\n",
       "      <td>2005</td>\n",
       "      <td>6941.39</td>\n",
       "      <td>6037.0</td>\n",
       "    </tr>\n",
       "    <tr>\n",
       "      <th>6</th>\n",
       "      <td>3</td>\n",
       "      <td>4.0</td>\n",
       "      <td>1620.0</td>\n",
       "      <td>847770.0</td>\n",
       "      <td>2011</td>\n",
       "      <td>10244.94</td>\n",
       "      <td>6037.0</td>\n",
       "    </tr>\n",
       "    <tr>\n",
       "      <th>7</th>\n",
       "      <td>3</td>\n",
       "      <td>2.0</td>\n",
       "      <td>2077.0</td>\n",
       "      <td>646760.0</td>\n",
       "      <td>1926</td>\n",
       "      <td>7924.68</td>\n",
       "      <td>6037.0</td>\n",
       "    </tr>\n",
       "    <tr>\n",
       "      <th>11</th>\n",
       "      <td>0</td>\n",
       "      <td>0.0</td>\n",
       "      <td>1200.0</td>\n",
       "      <td>5328.0</td>\n",
       "      <td>1972</td>\n",
       "      <td>91.60</td>\n",
       "      <td>6037.0</td>\n",
       "    </tr>\n",
       "    <tr>\n",
       "      <th>14</th>\n",
       "      <td>0</td>\n",
       "      <td>0.0</td>\n",
       "      <td>171.0</td>\n",
       "      <td>6920.0</td>\n",
       "      <td>1973</td>\n",
       "      <td>255.17</td>\n",
       "      <td>6037.0</td>\n",
       "    </tr>\n",
       "  </tbody>\n",
       "</table>\n",
       "</div>"
      ],
      "text/plain": [
       "    bedroomcnt  bathroomcnt  calculatedfinishedsquarefeet  taxvaluedollarcnt  \\\n",
       "4            4          2.0                        3633.0           296425.0   \n",
       "6            3          4.0                        1620.0           847770.0   \n",
       "7            3          2.0                        2077.0           646760.0   \n",
       "11           0          0.0                        1200.0             5328.0   \n",
       "14           0          0.0                         171.0             6920.0   \n",
       "\n",
       "    yearbuilt  taxamount    fips  \n",
       "4        2005    6941.39  6037.0  \n",
       "6        2011   10244.94  6037.0  \n",
       "7        1926    7924.68  6037.0  \n",
       "11       1972      91.60  6037.0  \n",
       "14       1973     255.17  6037.0  "
      ]
     },
     "execution_count": 17,
     "metadata": {},
     "output_type": "execute_result"
    }
   ],
   "source": [
    "df.head() #Making sure that the above changes were implemented correctly"
   ]
  },
  {
   "cell_type": "code",
   "execution_count": 18,
   "id": "9e0d1d40-bfa0-4fa7-852f-e9028c0e3c30",
   "metadata": {
    "tags": []
   },
   "outputs": [
    {
     "data": {
      "text/html": [
       "<div>\n",
       "<style scoped>\n",
       "    .dataframe tbody tr th:only-of-type {\n",
       "        vertical-align: middle;\n",
       "    }\n",
       "\n",
       "    .dataframe tbody tr th {\n",
       "        vertical-align: top;\n",
       "    }\n",
       "\n",
       "    .dataframe thead th {\n",
       "        text-align: right;\n",
       "    }\n",
       "</style>\n",
       "<table border=\"1\" class=\"dataframe\">\n",
       "  <thead>\n",
       "    <tr style=\"text-align: right;\">\n",
       "      <th></th>\n",
       "      <th>Bedroom_Count</th>\n",
       "      <th>Bathroom_Count</th>\n",
       "      <th>Finished_sqft</th>\n",
       "      <th>Tax_value_dollars</th>\n",
       "      <th>Year_built</th>\n",
       "      <th>Tax_amount</th>\n",
       "      <th>County</th>\n",
       "    </tr>\n",
       "  </thead>\n",
       "  <tbody>\n",
       "    <tr>\n",
       "      <th>4</th>\n",
       "      <td>4</td>\n",
       "      <td>2.0</td>\n",
       "      <td>3633.0</td>\n",
       "      <td>296425.0</td>\n",
       "      <td>2005</td>\n",
       "      <td>6941.39</td>\n",
       "      <td>LA</td>\n",
       "    </tr>\n",
       "    <tr>\n",
       "      <th>6</th>\n",
       "      <td>3</td>\n",
       "      <td>4.0</td>\n",
       "      <td>1620.0</td>\n",
       "      <td>847770.0</td>\n",
       "      <td>2011</td>\n",
       "      <td>10244.94</td>\n",
       "      <td>LA</td>\n",
       "    </tr>\n",
       "    <tr>\n",
       "      <th>7</th>\n",
       "      <td>3</td>\n",
       "      <td>2.0</td>\n",
       "      <td>2077.0</td>\n",
       "      <td>646760.0</td>\n",
       "      <td>1926</td>\n",
       "      <td>7924.68</td>\n",
       "      <td>LA</td>\n",
       "    </tr>\n",
       "    <tr>\n",
       "      <th>11</th>\n",
       "      <td>0</td>\n",
       "      <td>0.0</td>\n",
       "      <td>1200.0</td>\n",
       "      <td>5328.0</td>\n",
       "      <td>1972</td>\n",
       "      <td>91.60</td>\n",
       "      <td>LA</td>\n",
       "    </tr>\n",
       "  </tbody>\n",
       "</table>\n",
       "</div>"
      ],
      "text/plain": [
       "    Bedroom_Count  Bathroom_Count  Finished_sqft  Tax_value_dollars  \\\n",
       "4               4             2.0         3633.0           296425.0   \n",
       "6               3             4.0         1620.0           847770.0   \n",
       "7               3             2.0         2077.0           646760.0   \n",
       "11              0             0.0         1200.0             5328.0   \n",
       "\n",
       "    Year_built  Tax_amount County  \n",
       "4         2005     6941.39     LA  \n",
       "6         2011    10244.94     LA  \n",
       "7         1926     7924.68     LA  \n",
       "11        1972       91.60     LA  "
      ]
     },
     "execution_count": 18,
     "metadata": {},
     "output_type": "execute_result"
    }
   ],
   "source": [
    "# I didn't like the names of the columns, so let's change them\n",
    "df = df.rename(columns={\"bedroomcnt\": \"Bedroom_Count\"})\n",
    "df = df.rename(columns={\"bathroomcnt\": \"Bathroom_Count\"})\n",
    "df = df.rename(columns={\"calculatedfinishedsquarefeet\": \"Finished_sqft\"})\n",
    "df = df.rename(columns={\"taxvaluedollarcnt\": \"Tax_value_dollars\"})\n",
    "df = df.rename(columns={\"yearbuilt\": \"Year_built\"})\n",
    "df = df.rename(columns={\"taxamount\": \"Tax_amount\"})\n",
    "df = df.rename(columns={'fips': 'County'})\n",
    "df.County = df.County.map({6037:'LA',6059:'Orange',6111:'Ventura'})\n",
    "df.head(4)"
   ]
  },
  {
   "cell_type": "code",
   "execution_count": 19,
   "id": "0eee9672-ce94-4a63-a4ef-0a6785843859",
   "metadata": {
    "tags": []
   },
   "outputs": [
    {
     "name": "stdout",
     "output_type": "stream",
     "text": [
      "<class 'pandas.core.frame.DataFrame'>\n",
      "Int64Index: 2140235 entries, 4 to 2152862\n",
      "Data columns (total 7 columns):\n",
      " #   Column             Dtype  \n",
      "---  ------             -----  \n",
      " 0   Bedroom_Count      int64  \n",
      " 1   Bathroom_Count     float64\n",
      " 2   Finished_sqft      float64\n",
      " 3   Tax_value_dollars  float64\n",
      " 4   Year_built         int64  \n",
      " 5   Tax_amount         float64\n",
      " 6   County             object \n",
      "dtypes: float64(4), int64(2), object(1)\n",
      "memory usage: 130.6+ MB\n"
     ]
    }
   ],
   "source": [
    "df.info()"
   ]
  },
  {
   "cell_type": "markdown",
   "id": "27481344-37c6-4c30-8084-6e7b7c72f967",
   "metadata": {},
   "source": [
    "**Let's create a function to split the data**"
   ]
  },
  {
   "cell_type": "code",
   "execution_count": 20,
   "id": "61fdc242-988c-4509-9f0b-9ac810047012",
   "metadata": {
    "tags": []
   },
   "outputs": [],
   "source": [
    "def split_zillow_data(df):\n",
    "    '''\n",
    "    This function performs split on zillow data.\n",
    "    Returns train, validate, and test dfs.\n",
    "    '''\n",
    "    train_validate, test = train_test_split(df, test_size=.2, \n",
    "                                        random_state=123)\n",
    "                                        \n",
    "    train, validate = train_test_split(train_validate, test_size=.3, \n",
    "                                   random_state=123)\n",
    "    return train, validate, test"
   ]
  },
  {
   "cell_type": "code",
   "execution_count": 21,
   "id": "69cd8b30-6b2e-48e5-8c0e-b949f316a3f4",
   "metadata": {
    "tags": []
   },
   "outputs": [],
   "source": [
    "train, validate, test = split_zillow_data(df)"
   ]
  },
  {
   "cell_type": "code",
   "execution_count": 22,
   "id": "9a1130ac-851e-4a60-98c4-b973d3b9bd51",
   "metadata": {
    "tags": []
   },
   "outputs": [
    {
     "data": {
      "text/html": [
       "<div>\n",
       "<style scoped>\n",
       "    .dataframe tbody tr th:only-of-type {\n",
       "        vertical-align: middle;\n",
       "    }\n",
       "\n",
       "    .dataframe tbody tr th {\n",
       "        vertical-align: top;\n",
       "    }\n",
       "\n",
       "    .dataframe thead th {\n",
       "        text-align: right;\n",
       "    }\n",
       "</style>\n",
       "<table border=\"1\" class=\"dataframe\">\n",
       "  <thead>\n",
       "    <tr style=\"text-align: right;\">\n",
       "      <th></th>\n",
       "      <th>Bedroom_Count</th>\n",
       "      <th>Bathroom_Count</th>\n",
       "      <th>Finished_sqft</th>\n",
       "      <th>Tax_value_dollars</th>\n",
       "      <th>Year_built</th>\n",
       "      <th>Tax_amount</th>\n",
       "      <th>County</th>\n",
       "    </tr>\n",
       "  </thead>\n",
       "  <tbody>\n",
       "    <tr>\n",
       "      <th>1567873</th>\n",
       "      <td>3</td>\n",
       "      <td>1.0</td>\n",
       "      <td>1248.0</td>\n",
       "      <td>191578.0</td>\n",
       "      <td>1950</td>\n",
       "      <td>2712.21</td>\n",
       "      <td>LA</td>\n",
       "    </tr>\n",
       "    <tr>\n",
       "      <th>1218138</th>\n",
       "      <td>2</td>\n",
       "      <td>2.0</td>\n",
       "      <td>1326.0</td>\n",
       "      <td>1345206.0</td>\n",
       "      <td>1950</td>\n",
       "      <td>16539.04</td>\n",
       "      <td>LA</td>\n",
       "    </tr>\n",
       "    <tr>\n",
       "      <th>339661</th>\n",
       "      <td>2</td>\n",
       "      <td>1.0</td>\n",
       "      <td>1053.0</td>\n",
       "      <td>356648.0</td>\n",
       "      <td>1953</td>\n",
       "      <td>4575.16</td>\n",
       "      <td>LA</td>\n",
       "    </tr>\n",
       "    <tr>\n",
       "      <th>1017133</th>\n",
       "      <td>3</td>\n",
       "      <td>2.0</td>\n",
       "      <td>1256.0</td>\n",
       "      <td>175069.0</td>\n",
       "      <td>1946</td>\n",
       "      <td>2635.51</td>\n",
       "      <td>LA</td>\n",
       "    </tr>\n",
       "    <tr>\n",
       "      <th>40250</th>\n",
       "      <td>3</td>\n",
       "      <td>2.0</td>\n",
       "      <td>1640.0</td>\n",
       "      <td>543000.0</td>\n",
       "      <td>1957</td>\n",
       "      <td>6344.96</td>\n",
       "      <td>Orange</td>\n",
       "    </tr>\n",
       "  </tbody>\n",
       "</table>\n",
       "</div>"
      ],
      "text/plain": [
       "         Bedroom_Count  Bathroom_Count  Finished_sqft  Tax_value_dollars  \\\n",
       "1567873              3             1.0         1248.0           191578.0   \n",
       "1218138              2             2.0         1326.0          1345206.0   \n",
       "339661               2             1.0         1053.0           356648.0   \n",
       "1017133              3             2.0         1256.0           175069.0   \n",
       "40250                3             2.0         1640.0           543000.0   \n",
       "\n",
       "         Year_built  Tax_amount  County  \n",
       "1567873        1950     2712.21      LA  \n",
       "1218138        1950    16539.04      LA  \n",
       "339661         1953     4575.16      LA  \n",
       "1017133        1946     2635.51      LA  \n",
       "40250          1957     6344.96  Orange  "
      ]
     },
     "execution_count": 22,
     "metadata": {},
     "output_type": "execute_result"
    }
   ],
   "source": [
    "train.head() # Everything worked as planned"
   ]
  },
  {
   "cell_type": "markdown",
   "id": "bd716454-6023-4fd9-a4c4-6bc6a198bb0a",
   "metadata": {},
   "source": [
    "**Let's create a wrangle function to implement all changes I did above for future use**"
   ]
  },
  {
   "cell_type": "code",
   "execution_count": 29,
   "id": "7dbf6205-cca9-445c-8a84-f02216ca3489",
   "metadata": {
    "tags": []
   },
   "outputs": [],
   "source": [
    "def wrangle_zillow():\n",
    "    SQL_query = '''\n",
    "    SELECT \n",
    "        bedroomcnt, \n",
    "        bathroomcnt, \n",
    "        calculatedfinishedsquarefeet, \n",
    "        taxvaluedollarcnt, \n",
    "        yearbuilt, \n",
    "        taxamount, \n",
    "        fips \n",
    "    FROM \n",
    "        properties_2017 \n",
    "    WHERE \n",
    "        propertylandusetypeid  = 261\n",
    "    '''\n",
    "    df = get_zillow_data(SQL_query, directory)\n",
    "    df = df.dropna()\n",
    "    df.bedroomcnt = df.bedroomcnt.astype(int)\n",
    "    df.yearbuilt = df.yearbuilt.astype(int)\n",
    "    df = df.rename(columns={\"bedroomcnt\": \"Bedroom_Count\"})\n",
    "    df = df.rename(columns={\"bathroomcnt\": \"Bathroom_Count\"})\n",
    "    df = df.rename(columns={\"calculatedfinishedsquarefeet\": \"Finished_sqft\"})\n",
    "    df = df.rename(columns={\"taxvaluedollarcnt\": \"Tax_value_dollars\"})\n",
    "    df = df.rename(columns={\"yearbuilt\": \"Year_built\"})\n",
    "    df = df.rename(columns={\"taxamount\": \"Tax_amount\"})\n",
    "    df = df.rename(columns={'fips': 'County'})\n",
    "    df.County = df.County.map({6037:'LA',6059:'Orange',6111:'Ventura'})\n",
    "    return df"
   ]
  },
  {
   "cell_type": "markdown",
   "id": "6a89a6a4-d15b-4e38-b26e-cd071f6cf515",
   "metadata": {},
   "source": [
    "**Let's test our function to make sure it worked**"
   ]
  },
  {
   "cell_type": "code",
   "execution_count": 30,
   "id": "52f62929-189d-4f9a-82d1-0be886bbbdd6",
   "metadata": {
    "tags": []
   },
   "outputs": [
    {
     "data": {
      "text/html": [
       "<div>\n",
       "<style scoped>\n",
       "    .dataframe tbody tr th:only-of-type {\n",
       "        vertical-align: middle;\n",
       "    }\n",
       "\n",
       "    .dataframe tbody tr th {\n",
       "        vertical-align: top;\n",
       "    }\n",
       "\n",
       "    .dataframe thead th {\n",
       "        text-align: right;\n",
       "    }\n",
       "</style>\n",
       "<table border=\"1\" class=\"dataframe\">\n",
       "  <thead>\n",
       "    <tr style=\"text-align: right;\">\n",
       "      <th></th>\n",
       "      <th>Bedroom_Count</th>\n",
       "      <th>Bathroom_Count</th>\n",
       "      <th>Finished_sqft</th>\n",
       "      <th>Tax_value_dollars</th>\n",
       "      <th>Year_built</th>\n",
       "      <th>Tax_amount</th>\n",
       "      <th>County</th>\n",
       "    </tr>\n",
       "  </thead>\n",
       "  <tbody>\n",
       "    <tr>\n",
       "      <th>4</th>\n",
       "      <td>4</td>\n",
       "      <td>2.0</td>\n",
       "      <td>3633.0</td>\n",
       "      <td>296425.0</td>\n",
       "      <td>2005</td>\n",
       "      <td>6941.39</td>\n",
       "      <td>LA</td>\n",
       "    </tr>\n",
       "    <tr>\n",
       "      <th>6</th>\n",
       "      <td>3</td>\n",
       "      <td>4.0</td>\n",
       "      <td>1620.0</td>\n",
       "      <td>847770.0</td>\n",
       "      <td>2011</td>\n",
       "      <td>10244.94</td>\n",
       "      <td>LA</td>\n",
       "    </tr>\n",
       "    <tr>\n",
       "      <th>7</th>\n",
       "      <td>3</td>\n",
       "      <td>2.0</td>\n",
       "      <td>2077.0</td>\n",
       "      <td>646760.0</td>\n",
       "      <td>1926</td>\n",
       "      <td>7924.68</td>\n",
       "      <td>LA</td>\n",
       "    </tr>\n",
       "    <tr>\n",
       "      <th>11</th>\n",
       "      <td>0</td>\n",
       "      <td>0.0</td>\n",
       "      <td>1200.0</td>\n",
       "      <td>5328.0</td>\n",
       "      <td>1972</td>\n",
       "      <td>91.60</td>\n",
       "      <td>LA</td>\n",
       "    </tr>\n",
       "    <tr>\n",
       "      <th>14</th>\n",
       "      <td>0</td>\n",
       "      <td>0.0</td>\n",
       "      <td>171.0</td>\n",
       "      <td>6920.0</td>\n",
       "      <td>1973</td>\n",
       "      <td>255.17</td>\n",
       "      <td>LA</td>\n",
       "    </tr>\n",
       "  </tbody>\n",
       "</table>\n",
       "</div>"
      ],
      "text/plain": [
       "    Bedroom_Count  Bathroom_Count  Finished_sqft  Tax_value_dollars  \\\n",
       "4               4             2.0         3633.0           296425.0   \n",
       "6               3             4.0         1620.0           847770.0   \n",
       "7               3             2.0         2077.0           646760.0   \n",
       "11              0             0.0         1200.0             5328.0   \n",
       "14              0             0.0          171.0             6920.0   \n",
       "\n",
       "    Year_built  Tax_amount County  \n",
       "4         2005     6941.39     LA  \n",
       "6         2011    10244.94     LA  \n",
       "7         1926     7924.68     LA  \n",
       "11        1972       91.60     LA  \n",
       "14        1973      255.17     LA  "
      ]
     },
     "execution_count": 30,
     "metadata": {},
     "output_type": "execute_result"
    }
   ],
   "source": [
    "df = wrangle_zillow()\n",
    "df.head() # Looks good to me"
   ]
  },
  {
   "cell_type": "code",
   "execution_count": 31,
   "id": "80d2d34f-c24b-4a85-aa43-fd50453db645",
   "metadata": {
    "tags": []
   },
   "outputs": [
    {
     "name": "stdout",
     "output_type": "stream",
     "text": [
      "<class 'pandas.core.frame.DataFrame'>\n",
      "Int64Index: 2140235 entries, 4 to 2152862\n",
      "Data columns (total 7 columns):\n",
      " #   Column             Non-Null Count    Dtype  \n",
      "---  ------             --------------    -----  \n",
      " 0   Bedroom_Count      2140235 non-null  int64  \n",
      " 1   Bathroom_Count     2140235 non-null  float64\n",
      " 2   Finished_sqft      2140235 non-null  float64\n",
      " 3   Tax_value_dollars  2140235 non-null  float64\n",
      " 4   Year_built         2140235 non-null  int64  \n",
      " 5   Tax_amount         2140235 non-null  float64\n",
      " 6   County             2140235 non-null  object \n",
      "dtypes: float64(4), int64(2), object(1)\n",
      "memory usage: 130.6+ MB\n"
     ]
    }
   ],
   "source": [
    "df.info(show_counts = True)"
   ]
  },
  {
   "cell_type": "code",
   "execution_count": 32,
   "id": "c79c9ddb-0363-4983-b26c-74871475c9cf",
   "metadata": {
    "tags": []
   },
   "outputs": [
    {
     "data": {
      "text/plain": [
       "Bedroom_Count        0\n",
       "Bathroom_Count       0\n",
       "Finished_sqft        0\n",
       "Tax_value_dollars    0\n",
       "Year_built           0\n",
       "Tax_amount           0\n",
       "County               0\n",
       "dtype: int64"
      ]
     },
     "execution_count": 32,
     "metadata": {},
     "output_type": "execute_result"
    }
   ],
   "source": [
    "df.isnull().sum()"
   ]
  },
  {
   "cell_type": "code",
   "execution_count": 33,
   "id": "f80fe6b4-31c8-4bf5-9318-b4da9d5ed07e",
   "metadata": {
    "tags": []
   },
   "outputs": [
    {
     "data": {
      "text/plain": [
       "(2140235, 7)"
      ]
     },
     "execution_count": 33,
     "metadata": {},
     "output_type": "execute_result"
    }
   ],
   "source": [
    "df.shape"
   ]
  },
  {
   "cell_type": "code",
   "execution_count": 34,
   "id": "4f64706e-5ab5-4cdb-8c97-e4b38c6f9339",
   "metadata": {
    "tags": []
   },
   "outputs": [
    {
     "name": "stdout",
     "output_type": "stream",
     "text": [
      "<class 'pandas.core.frame.DataFrame'>\n",
      "Int64Index: 2140235 entries, 4 to 2152862\n",
      "Data columns (total 7 columns):\n",
      " #   Column             Non-Null Count    Dtype  \n",
      "---  ------             --------------    -----  \n",
      " 0   Bedroom_Count      2140235 non-null  int64  \n",
      " 1   Bathroom_Count     2140235 non-null  float64\n",
      " 2   Finished_sqft      2140235 non-null  float64\n",
      " 3   Tax_value_dollars  2140235 non-null  float64\n",
      " 4   Year_built         2140235 non-null  int64  \n",
      " 5   Tax_amount         2140235 non-null  float64\n",
      " 6   County             2140235 non-null  object \n",
      "dtypes: float64(4), int64(2), object(1)\n",
      "memory usage: 130.6+ MB\n"
     ]
    }
   ],
   "source": [
    "df.info(show_counts = True)"
   ]
  },
  {
   "cell_type": "code",
   "execution_count": null,
   "id": "0f5edfd6-3291-4314-a3de-91e2dced0d7f",
   "metadata": {},
   "outputs": [],
   "source": []
  }
 ],
 "metadata": {
  "kernelspec": {
   "display_name": "Python 3 (ipykernel)",
   "language": "python",
   "name": "python3"
  },
  "language_info": {
   "codemirror_mode": {
    "name": "ipython",
    "version": 3
   },
   "file_extension": ".py",
   "mimetype": "text/x-python",
   "name": "python",
   "nbconvert_exporter": "python",
   "pygments_lexer": "ipython3",
   "version": "3.11.4"
  }
 },
 "nbformat": 4,
 "nbformat_minor": 5
}
