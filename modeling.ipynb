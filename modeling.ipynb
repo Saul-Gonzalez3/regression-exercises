{
 "cells": [
  {
   "cell_type": "code",
   "execution_count": 1,
   "id": "55c0134a-40bc-41e6-ac5f-b77d0be770ef",
   "metadata": {
    "tags": []
   },
   "outputs": [],
   "source": [
    "import numpy as np\n",
    "import pandas as pd\n",
    "from sklearn.model_selection import train_test_split\n",
    "import os\n",
    "import env\n",
    "from sklearn.preprocessing import MinMaxScaler\n",
    "from scipy import stats\n",
    "\n",
    "import pandas as pd\n",
    "import numpy as np\n",
    "import matplotlib.pyplot as plt\n",
    "import os\n",
    "import seaborn as sns\n",
    "from scipy import stats\n",
    "\n",
    "from math import sqrt\n",
    "\n",
    "# import splitting and imputing functions\n",
    "from sklearn.model_selection import train_test_split\n",
    "from sklearn.impute import SimpleImputer\n",
    "\n",
    "# turn off pink boxes for demo\n",
    "import warnings\n",
    "warnings.filterwarnings(\"ignore\")\n",
    "\n",
    "# imports for modeling:\n",
    "# import Logistic regression\n",
    "from sklearn.linear_model import LogisticRegression\n",
    "# import K Nearest neighbors:\n",
    "from sklearn.neighbors import KNeighborsClassifier\n",
    "# import Decision Trees:\n",
    "from sklearn.tree import DecisionTreeClassifier, export_text, plot_tree\n",
    "# import Random Forest:\n",
    "from sklearn.ensemble import RandomForestClassifier\n",
    "\n",
    "from sklearn.metrics import classification_report, confusion_matrix\n",
    "\n",
    "# interpreting our models:\n",
    "import matplotlib.pyplot as plt\n",
    "from sklearn.metrics import accuracy_score, confusion_matrix, classification_report\n",
    "\n",
    "#feature selection\n",
    "from sklearn.feature_selection import SelectKBest, RFE, f_regression, SequentialFeatureSelector\n",
    "\n",
    "from sklearn.metrics import mean_squared_error\n",
    "from sklearn.metrics import r2_score\n"
   ]
  },
  {
   "cell_type": "markdown",
   "id": "46d17a8c-dd64-4c00-b258-56213053b9a4",
   "metadata": {},
   "source": [
    "<h1>Modeling exercise<h1/>"
   ]
  },
  {
   "cell_type": "markdown",
   "id": "a5a039bd-1890-41bf-a35f-4da29e2f874c",
   "metadata": {},
   "source": [
    "<h2>Select a dataset with a continuous target variable.\n",
    "\n",
    "<h2/>"
   ]
  },
  {
   "cell_type": "code",
   "execution_count": 2,
   "id": "c5daddb3-a960-4efb-b9e5-e98c522ce564",
   "metadata": {
    "tags": []
   },
   "outputs": [
    {
     "data": {
      "text/html": [
       "<div>\n",
       "<style scoped>\n",
       "    .dataframe tbody tr th:only-of-type {\n",
       "        vertical-align: middle;\n",
       "    }\n",
       "\n",
       "    .dataframe tbody tr th {\n",
       "        vertical-align: top;\n",
       "    }\n",
       "\n",
       "    .dataframe thead th {\n",
       "        text-align: right;\n",
       "    }\n",
       "</style>\n",
       "<table border=\"1\" class=\"dataframe\">\n",
       "  <thead>\n",
       "    <tr style=\"text-align: right;\">\n",
       "      <th></th>\n",
       "      <th>Bedroom_Count</th>\n",
       "      <th>Bathroom_Count</th>\n",
       "      <th>Finished_sqft</th>\n",
       "      <th>Tax_value_dollars</th>\n",
       "      <th>Year_built</th>\n",
       "      <th>Tax_amount</th>\n",
       "      <th>fips</th>\n",
       "    </tr>\n",
       "  </thead>\n",
       "  <tbody>\n",
       "    <tr>\n",
       "      <th>2</th>\n",
       "      <td>0</td>\n",
       "      <td>0.0</td>\n",
       "      <td>73026.0</td>\n",
       "      <td>1434941.0</td>\n",
       "      <td>1959</td>\n",
       "      <td>20800.37</td>\n",
       "      <td>6037.0</td>\n",
       "    </tr>\n",
       "    <tr>\n",
       "      <th>3</th>\n",
       "      <td>0</td>\n",
       "      <td>0.0</td>\n",
       "      <td>5068.0</td>\n",
       "      <td>1174475.0</td>\n",
       "      <td>1948</td>\n",
       "      <td>14557.57</td>\n",
       "      <td>6037.0</td>\n",
       "    </tr>\n",
       "    <tr>\n",
       "      <th>4</th>\n",
       "      <td>0</td>\n",
       "      <td>0.0</td>\n",
       "      <td>1776.0</td>\n",
       "      <td>440101.0</td>\n",
       "      <td>1947</td>\n",
       "      <td>5725.17</td>\n",
       "      <td>6037.0</td>\n",
       "    </tr>\n",
       "    <tr>\n",
       "      <th>5</th>\n",
       "      <td>0</td>\n",
       "      <td>0.0</td>\n",
       "      <td>2400.0</td>\n",
       "      <td>287634.0</td>\n",
       "      <td>1943</td>\n",
       "      <td>3661.28</td>\n",
       "      <td>6037.0</td>\n",
       "    </tr>\n",
       "    <tr>\n",
       "      <th>7</th>\n",
       "      <td>0</td>\n",
       "      <td>0.0</td>\n",
       "      <td>3611.0</td>\n",
       "      <td>698984.0</td>\n",
       "      <td>1946</td>\n",
       "      <td>7857.84</td>\n",
       "      <td>6037.0</td>\n",
       "    </tr>\n",
       "  </tbody>\n",
       "</table>\n",
       "</div>"
      ],
      "text/plain": [
       "   Bedroom_Count  Bathroom_Count  Finished_sqft  Tax_value_dollars  \\\n",
       "2              0             0.0        73026.0          1434941.0   \n",
       "3              0             0.0         5068.0          1174475.0   \n",
       "4              0             0.0         1776.0           440101.0   \n",
       "5              0             0.0         2400.0           287634.0   \n",
       "7              0             0.0         3611.0           698984.0   \n",
       "\n",
       "   Year_built  Tax_amount    fips  \n",
       "2        1959    20800.37  6037.0  \n",
       "3        1948    14557.57  6037.0  \n",
       "4        1947     5725.17  6037.0  \n",
       "5        1943     3661.28  6037.0  \n",
       "7        1946     7857.84  6037.0  "
      ]
     },
     "execution_count": 2,
     "metadata": {},
     "output_type": "execute_result"
    }
   ],
   "source": [
    "# Continuous target variable is Tax_value_dollars\n",
    "from wrangle import wrangle_zillow\n",
    "df = wrangle_zillow()\n",
    "df.head() "
   ]
  },
  {
   "cell_type": "markdown",
   "id": "34d28b7f-9cb0-4ec8-ac64-c55319617221",
   "metadata": {},
   "source": [
    "<h2>Be sure your data is prepared (no missing values, numeric datatypes) and split into samples.\n",
    "\n",
    "<h2/>"
   ]
  },
  {
   "cell_type": "code",
   "execution_count": 3,
   "id": "44295ccc-f59a-44c8-90ce-2b3f7e44f5fe",
   "metadata": {
    "tags": []
   },
   "outputs": [
    {
     "data": {
      "text/html": [
       "<div>\n",
       "<style scoped>\n",
       "    .dataframe tbody tr th:only-of-type {\n",
       "        vertical-align: middle;\n",
       "    }\n",
       "\n",
       "    .dataframe tbody tr th {\n",
       "        vertical-align: top;\n",
       "    }\n",
       "\n",
       "    .dataframe thead th {\n",
       "        text-align: right;\n",
       "    }\n",
       "</style>\n",
       "<table border=\"1\" class=\"dataframe\">\n",
       "  <thead>\n",
       "    <tr style=\"text-align: right;\">\n",
       "      <th></th>\n",
       "      <th>Bedroom_Count</th>\n",
       "      <th>Bathroom_Count</th>\n",
       "      <th>Finished_sqft</th>\n",
       "      <th>Tax_value_dollars</th>\n",
       "      <th>Year_built</th>\n",
       "      <th>Tax_amount</th>\n",
       "      <th>fips</th>\n",
       "    </tr>\n",
       "  </thead>\n",
       "  <tbody>\n",
       "    <tr>\n",
       "      <th>2</th>\n",
       "      <td>0</td>\n",
       "      <td>0.0</td>\n",
       "      <td>73026.0</td>\n",
       "      <td>1434941.0</td>\n",
       "      <td>1959</td>\n",
       "      <td>20800.37</td>\n",
       "      <td>6037.0</td>\n",
       "    </tr>\n",
       "    <tr>\n",
       "      <th>3</th>\n",
       "      <td>0</td>\n",
       "      <td>0.0</td>\n",
       "      <td>5068.0</td>\n",
       "      <td>1174475.0</td>\n",
       "      <td>1948</td>\n",
       "      <td>14557.57</td>\n",
       "      <td>6037.0</td>\n",
       "    </tr>\n",
       "    <tr>\n",
       "      <th>4</th>\n",
       "      <td>0</td>\n",
       "      <td>0.0</td>\n",
       "      <td>1776.0</td>\n",
       "      <td>440101.0</td>\n",
       "      <td>1947</td>\n",
       "      <td>5725.17</td>\n",
       "      <td>6037.0</td>\n",
       "    </tr>\n",
       "    <tr>\n",
       "      <th>5</th>\n",
       "      <td>0</td>\n",
       "      <td>0.0</td>\n",
       "      <td>2400.0</td>\n",
       "      <td>287634.0</td>\n",
       "      <td>1943</td>\n",
       "      <td>3661.28</td>\n",
       "      <td>6037.0</td>\n",
       "    </tr>\n",
       "    <tr>\n",
       "      <th>7</th>\n",
       "      <td>0</td>\n",
       "      <td>0.0</td>\n",
       "      <td>3611.0</td>\n",
       "      <td>698984.0</td>\n",
       "      <td>1946</td>\n",
       "      <td>7857.84</td>\n",
       "      <td>6037.0</td>\n",
       "    </tr>\n",
       "  </tbody>\n",
       "</table>\n",
       "</div>"
      ],
      "text/plain": [
       "   Bedroom_Count  Bathroom_Count  Finished_sqft  Tax_value_dollars  \\\n",
       "2              0             0.0        73026.0          1434941.0   \n",
       "3              0             0.0         5068.0          1174475.0   \n",
       "4              0             0.0         1776.0           440101.0   \n",
       "5              0             0.0         2400.0           287634.0   \n",
       "7              0             0.0         3611.0           698984.0   \n",
       "\n",
       "   Year_built  Tax_amount    fips  \n",
       "2        1959    20800.37  6037.0  \n",
       "3        1948    14557.57  6037.0  \n",
       "4        1947     5725.17  6037.0  \n",
       "5        1943     3661.28  6037.0  \n",
       "7        1946     7857.84  6037.0  "
      ]
     },
     "execution_count": 3,
     "metadata": {},
     "output_type": "execute_result"
    }
   ],
   "source": [
    "df.head() "
   ]
  },
  {
   "cell_type": "code",
   "execution_count": 4,
   "id": "a34a6c7d-51b3-42f3-877f-aa93e393a0e6",
   "metadata": {
    "tags": []
   },
   "outputs": [
    {
     "name": "stdout",
     "output_type": "stream",
     "text": [
      "<class 'pandas.core.frame.DataFrame'>\n",
      "Int64Index: 2901918 entries, 2 to 2982283\n",
      "Data columns (total 7 columns):\n",
      " #   Column             Dtype  \n",
      "---  ------             -----  \n",
      " 0   Bedroom_Count      int64  \n",
      " 1   Bathroom_Count     float64\n",
      " 2   Finished_sqft      float64\n",
      " 3   Tax_value_dollars  float64\n",
      " 4   Year_built         int64  \n",
      " 5   Tax_amount         float64\n",
      " 6   fips               float64\n",
      "dtypes: float64(5), int64(2)\n",
      "memory usage: 177.1 MB\n"
     ]
    }
   ],
   "source": [
    "df.info()"
   ]
  },
  {
   "cell_type": "code",
   "execution_count": 5,
   "id": "64c8f7e2-ecef-4868-9a09-e6cf2641ddb7",
   "metadata": {
    "tags": []
   },
   "outputs": [
    {
     "data": {
      "text/plain": [
       "Bedroom_Count        0\n",
       "Bathroom_Count       0\n",
       "Finished_sqft        0\n",
       "Tax_value_dollars    0\n",
       "Year_built           0\n",
       "Tax_amount           0\n",
       "fips                 0\n",
       "dtype: int64"
      ]
     },
     "execution_count": 5,
     "metadata": {},
     "output_type": "execute_result"
    }
   ],
   "source": [
    "df.isna().sum()"
   ]
  },
  {
   "cell_type": "code",
   "execution_count": 6,
   "id": "b441b21d-09bd-4a44-a3c0-5b096d16fbc3",
   "metadata": {
    "tags": []
   },
   "outputs": [
    {
     "data": {
      "text/plain": [
       "((1625073, 7), (696461, 7), (580384, 7))"
      ]
     },
     "execution_count": 6,
     "metadata": {},
     "output_type": "execute_result"
    }
   ],
   "source": [
    "from wrangle import split_zillow_data\n",
    "train, validate, test = split_zillow_data(df)\n",
    "train.shape, validate.shape, test.shape"
   ]
  },
  {
   "cell_type": "code",
   "execution_count": 7,
   "id": "26d498bc-70cb-4347-9a5a-acb46445b5fc",
   "metadata": {
    "tags": []
   },
   "outputs": [
    {
     "data": {
      "text/html": [
       "<div>\n",
       "<style scoped>\n",
       "    .dataframe tbody tr th:only-of-type {\n",
       "        vertical-align: middle;\n",
       "    }\n",
       "\n",
       "    .dataframe tbody tr th {\n",
       "        vertical-align: top;\n",
       "    }\n",
       "\n",
       "    .dataframe thead th {\n",
       "        text-align: right;\n",
       "    }\n",
       "</style>\n",
       "<table border=\"1\" class=\"dataframe\">\n",
       "  <thead>\n",
       "    <tr style=\"text-align: right;\">\n",
       "      <th></th>\n",
       "      <th>Bedroom_Count</th>\n",
       "      <th>Bathroom_Count</th>\n",
       "      <th>Finished_sqft</th>\n",
       "      <th>Tax_value_dollars</th>\n",
       "      <th>Year_built</th>\n",
       "      <th>Tax_amount</th>\n",
       "      <th>fips</th>\n",
       "    </tr>\n",
       "  </thead>\n",
       "  <tbody>\n",
       "    <tr>\n",
       "      <th>515265</th>\n",
       "      <td>3</td>\n",
       "      <td>2.0</td>\n",
       "      <td>1388.0</td>\n",
       "      <td>347987.0</td>\n",
       "      <td>1955</td>\n",
       "      <td>4073.83</td>\n",
       "      <td>6037.0</td>\n",
       "    </tr>\n",
       "    <tr>\n",
       "      <th>2834387</th>\n",
       "      <td>5</td>\n",
       "      <td>3.0</td>\n",
       "      <td>2425.0</td>\n",
       "      <td>705314.0</td>\n",
       "      <td>1975</td>\n",
       "      <td>8140.72</td>\n",
       "      <td>6111.0</td>\n",
       "    </tr>\n",
       "    <tr>\n",
       "      <th>282747</th>\n",
       "      <td>1</td>\n",
       "      <td>1.0</td>\n",
       "      <td>1100.0</td>\n",
       "      <td>389612.0</td>\n",
       "      <td>2005</td>\n",
       "      <td>5095.62</td>\n",
       "      <td>6037.0</td>\n",
       "    </tr>\n",
       "    <tr>\n",
       "      <th>1087577</th>\n",
       "      <td>2</td>\n",
       "      <td>2.0</td>\n",
       "      <td>1215.0</td>\n",
       "      <td>367965.0</td>\n",
       "      <td>2002</td>\n",
       "      <td>4497.36</td>\n",
       "      <td>6037.0</td>\n",
       "    </tr>\n",
       "    <tr>\n",
       "      <th>1663081</th>\n",
       "      <td>4</td>\n",
       "      <td>2.0</td>\n",
       "      <td>1705.0</td>\n",
       "      <td>333600.0</td>\n",
       "      <td>1950</td>\n",
       "      <td>4731.08</td>\n",
       "      <td>6037.0</td>\n",
       "    </tr>\n",
       "  </tbody>\n",
       "</table>\n",
       "</div>"
      ],
      "text/plain": [
       "         Bedroom_Count  Bathroom_Count  Finished_sqft  Tax_value_dollars  \\\n",
       "515265               3             2.0         1388.0           347987.0   \n",
       "2834387              5             3.0         2425.0           705314.0   \n",
       "282747               1             1.0         1100.0           389612.0   \n",
       "1087577              2             2.0         1215.0           367965.0   \n",
       "1663081              4             2.0         1705.0           333600.0   \n",
       "\n",
       "         Year_built  Tax_amount    fips  \n",
       "515265         1955     4073.83  6037.0  \n",
       "2834387        1975     8140.72  6111.0  \n",
       "282747         2005     5095.62  6037.0  \n",
       "1087577        2002     4497.36  6037.0  \n",
       "1663081        1950     4731.08  6037.0  "
      ]
     },
     "execution_count": 7,
     "metadata": {},
     "output_type": "execute_result"
    }
   ],
   "source": [
    "train.head()"
   ]
  },
  {
   "cell_type": "code",
   "execution_count": 8,
   "id": "90eb6772-0302-4dfe-ba5b-ea1ce9e8e064",
   "metadata": {
    "tags": []
   },
   "outputs": [],
   "source": [
    "from wrangle import scale_data\n",
    "train, validate, test = scale_data(train, validate, test)"
   ]
  },
  {
   "cell_type": "code",
   "execution_count": 9,
   "id": "9dac14ad-3dd2-4c42-aba4-dc5cf77baaed",
   "metadata": {
    "tags": []
   },
   "outputs": [
    {
     "data": {
      "text/plain": [
       "(Index(['Bedroom_Count', 'Bathroom_Count', 'Finished_sqft', 'Tax_value_dollars',\n",
       "        'Year_built', 'Tax_amount', 'fips', 'Bedroom_Count_Scaled',\n",
       "        'Bathroom_Count_Scaled', 'Finished_sqft_Scaled', 'Tax_amount_Scaled'],\n",
       "       dtype='object'),\n",
       " Index(['Bedroom_Count', 'Bathroom_Count', 'Finished_sqft', 'Tax_value_dollars',\n",
       "        'Year_built', 'Tax_amount', 'fips', 'Bedroom_Count_Scaled',\n",
       "        'Bathroom_Count_Scaled', 'Finished_sqft_Scaled', 'Tax_amount_Scaled'],\n",
       "       dtype='object'),\n",
       " Index(['Bedroom_Count', 'Bathroom_Count', 'Finished_sqft', 'Tax_value_dollars',\n",
       "        'Year_built', 'Tax_amount', 'fips', 'Bedroom_Count_Scaled',\n",
       "        'Bathroom_Count_Scaled', 'Finished_sqft_Scaled', 'Tax_amount_Scaled'],\n",
       "       dtype='object'))"
      ]
     },
     "execution_count": 9,
     "metadata": {},
     "output_type": "execute_result"
    }
   ],
   "source": [
    "train.columns, validate.columns, test.columns"
   ]
  },
  {
   "cell_type": "code",
   "execution_count": 10,
   "id": "64e3e328-199b-439f-ac20-006928424d6a",
   "metadata": {},
   "outputs": [],
   "source": [
    "train = train.drop(columns= ['Bedroom_Count', 'Bathroom_Count', 'Finished_sqft','Tax_amount'])\n",
    "validate = validate.drop(columns= ['Bedroom_Count', 'Bathroom_Count', 'Finished_sqft','Tax_amount'])\n",
    "test = test.drop(columns= ['Bedroom_Count', 'Bathroom_Count', 'Finished_sqft','Tax_amount'])"
   ]
  },
  {
   "cell_type": "code",
   "execution_count": 11,
   "id": "31aca437-00a8-495a-b4ee-063eb2d0f3f4",
   "metadata": {
    "tags": []
   },
   "outputs": [
    {
     "data": {
      "text/html": [
       "<div>\n",
       "<style scoped>\n",
       "    .dataframe tbody tr th:only-of-type {\n",
       "        vertical-align: middle;\n",
       "    }\n",
       "\n",
       "    .dataframe tbody tr th {\n",
       "        vertical-align: top;\n",
       "    }\n",
       "\n",
       "    .dataframe thead th {\n",
       "        text-align: right;\n",
       "    }\n",
       "</style>\n",
       "<table border=\"1\" class=\"dataframe\">\n",
       "  <thead>\n",
       "    <tr style=\"text-align: right;\">\n",
       "      <th></th>\n",
       "      <th>Tax_value_dollars</th>\n",
       "      <th>Year_built</th>\n",
       "      <th>fips</th>\n",
       "      <th>Bedroom_Count_Scaled</th>\n",
       "      <th>Bathroom_Count_Scaled</th>\n",
       "      <th>Finished_sqft_Scaled</th>\n",
       "      <th>Tax_amount_Scaled</th>\n",
       "    </tr>\n",
       "  </thead>\n",
       "  <tbody>\n",
       "    <tr>\n",
       "      <th>515265</th>\n",
       "      <td>347987.0</td>\n",
       "      <td>1955</td>\n",
       "      <td>6037.0</td>\n",
       "      <td>0.12</td>\n",
       "      <td>0.06250</td>\n",
       "      <td>0.001456</td>\n",
       "      <td>0.001242</td>\n",
       "    </tr>\n",
       "    <tr>\n",
       "      <th>2834387</th>\n",
       "      <td>705314.0</td>\n",
       "      <td>1975</td>\n",
       "      <td>6111.0</td>\n",
       "      <td>0.20</td>\n",
       "      <td>0.09375</td>\n",
       "      <td>0.002545</td>\n",
       "      <td>0.002483</td>\n",
       "    </tr>\n",
       "    <tr>\n",
       "      <th>282747</th>\n",
       "      <td>389612.0</td>\n",
       "      <td>2005</td>\n",
       "      <td>6037.0</td>\n",
       "      <td>0.04</td>\n",
       "      <td>0.03125</td>\n",
       "      <td>0.001154</td>\n",
       "      <td>0.001553</td>\n",
       "    </tr>\n",
       "    <tr>\n",
       "      <th>1087577</th>\n",
       "      <td>367965.0</td>\n",
       "      <td>2002</td>\n",
       "      <td>6037.0</td>\n",
       "      <td>0.08</td>\n",
       "      <td>0.06250</td>\n",
       "      <td>0.001274</td>\n",
       "      <td>0.001371</td>\n",
       "    </tr>\n",
       "    <tr>\n",
       "      <th>1663081</th>\n",
       "      <td>333600.0</td>\n",
       "      <td>1950</td>\n",
       "      <td>6037.0</td>\n",
       "      <td>0.16</td>\n",
       "      <td>0.06250</td>\n",
       "      <td>0.001789</td>\n",
       "      <td>0.001442</td>\n",
       "    </tr>\n",
       "  </tbody>\n",
       "</table>\n",
       "</div>"
      ],
      "text/plain": [
       "         Tax_value_dollars  Year_built    fips  Bedroom_Count_Scaled  \\\n",
       "515265            347987.0        1955  6037.0                  0.12   \n",
       "2834387           705314.0        1975  6111.0                  0.20   \n",
       "282747            389612.0        2005  6037.0                  0.04   \n",
       "1087577           367965.0        2002  6037.0                  0.08   \n",
       "1663081           333600.0        1950  6037.0                  0.16   \n",
       "\n",
       "         Bathroom_Count_Scaled  Finished_sqft_Scaled  Tax_amount_Scaled  \n",
       "515265                 0.06250              0.001456           0.001242  \n",
       "2834387                0.09375              0.002545           0.002483  \n",
       "282747                 0.03125              0.001154           0.001553  \n",
       "1087577                0.06250              0.001274           0.001371  \n",
       "1663081                0.06250              0.001789           0.001442  "
      ]
     },
     "execution_count": 11,
     "metadata": {},
     "output_type": "execute_result"
    }
   ],
   "source": [
    "train.head()"
   ]
  },
  {
   "cell_type": "markdown",
   "id": "347633d3-63d3-4a86-a9aa-2c94df903403",
   "metadata": {},
   "source": [
    "<h2>Time to Model!<h2/>\n",
    "    \n",
    "<h3/>Work through all of the steps outlined in the lesson, from setting the baseline to selected a model and evaluating the final model on your test data.<h3/>\n",
    "\n"
   ]
  },
  {
   "cell_type": "code",
   "execution_count": 12,
   "id": "7c8bde32-83c8-4d21-ac51-d2b59bc4bbf8",
   "metadata": {
    "tags": []
   },
   "outputs": [
    {
     "data": {
      "image/png": "[encoded data removed]",
      "text/plain": [
       "<Figure size 640x480 with 1 Axes>"
      ]
     },
     "metadata": {},
     "output_type": "display_data"
    }
   ],
   "source": [
    "plt.hist(train['Tax_value_dollars'])\n",
    "plt.title('Distribution of Tax Value Dollars')\n",
    "plt.show()"
   ]
  },
  {
   "cell_type": "code",
   "execution_count": 13,
   "id": "bd81ddd1-3273-4187-af05-9c51a5e3d076",
   "metadata": {
    "tags": []
   },
   "outputs": [],
   "source": [
    "#Let's split up the train data between X and y\n",
    "X = train.drop(columns={'Tax_value_dollars'})\n",
    "y = train['Tax_value_dollars']"
   ]
  },
  {
   "cell_type": "code",
   "execution_count": 14,
   "id": "4955fe99-200a-40d1-9b2d-a0442bf713f5",
   "metadata": {
    "tags": []
   },
   "outputs": [],
   "source": [
    "from sklearn.linear_model import LinearRegression\n",
    "\n",
    "#make\n",
    "lm = LinearRegression()\n",
    "#fit\n",
    "lm.fit(X,y)\n",
    "#use\n",
    "yhat = lm.predict(X)"
   ]
  },
  {
   "cell_type": "code",
   "execution_count": 15,
   "id": "0740a2b0-4047-4a09-aaaa-f9bd66fae93c",
   "metadata": {
    "tags": []
   },
   "outputs": [
    {
     "data": {
      "text/plain": [
       "(444677.12465224636, 324441.0)"
      ]
     },
     "execution_count": 15,
     "metadata": {},
     "output_type": "execute_result"
    }
   ],
   "source": [
    "#Which method is best for the baseline?\n",
    "baseline_mean = y.mean()\n",
    "baseline_med = y.median()\n",
    "baseline_mean, baseline_med"
   ]
  },
  {
   "cell_type": "code",
   "execution_count": 16,
   "id": "20b39b75-3b68-4b89-9ef7-9ce4835fe6cd",
   "metadata": {
    "tags": []
   },
   "outputs": [],
   "source": [
    "y_pred = pd.DataFrame(\n",
    "    {\n",
    "    'y_act': y.values,\n",
    "    'yhat' : yhat,\n",
    "    'baseline_med': baseline_med,\n",
    "    'baseline_mean': baseline_mean\n",
    "    }, index=train.index)"
   ]
  },
  {
   "cell_type": "code",
   "execution_count": 17,
   "id": "b550992f-90d2-44a6-8a2b-9301048a0a19",
   "metadata": {
    "tags": []
   },
   "outputs": [
    {
     "data": {
      "text/plain": [
       "True"
      ]
     },
     "execution_count": 17,
     "metadata": {},
     "output_type": "execute_result"
    }
   ],
   "source": [
    "# compute the error on these two baselines: I want the lower RSME for the baseline\n",
    "mean_baseline_rmse = mean_squared_error(y_pred.baseline_mean, y) ** (1/2)\n",
    "med_baseline_rmse = mean_squared_error(y_pred.baseline_med, y) ** (1/2)\n",
    "mean_baseline_rmse < med_baseline_rmse"
   ]
  },
  {
   "cell_type": "code",
   "execution_count": 18,
   "id": "e9575040-d49a-45b5-bcaa-f583513d799e",
   "metadata": {
    "tags": []
   },
   "outputs": [],
   "source": [
    "#Establish the true baseline\n",
    "baseline = mean_baseline_rmse"
   ]
  },
  {
   "cell_type": "markdown",
   "id": "932c3b57-994d-47c3-983a-b7dd100a172a",
   "metadata": {},
   "source": [
    "<h3>Evaluate<h3/>"
   ]
  },
  {
   "cell_type": "code",
   "execution_count": 19,
   "id": "cad2b9ab-7a90-478b-82cc-c9792355c1c4",
   "metadata": {
    "tags": []
   },
   "outputs": [],
   "source": [
    "def evaluate_reg(y, yhat):\n",
    "    '''\n",
    "    based on two series, y_act, y_pred, (y, yhat), we\n",
    "    evaluate and return the root mean squared error\n",
    "    as well as the explained variance for the data.\n",
    "    \n",
    "    returns: rmse (float), rmse (float)\n",
    "    '''\n",
    "    rmse = mean_squared_error(y, yhat, squared=False)\n",
    "    r2 = r2_score(y, yhat)\n",
    "    return rmse, r2"
   ]
  },
  {
   "cell_type": "code",
   "execution_count": 20,
   "id": "2557baed-a60f-4456-9c80-1be85d355a41",
   "metadata": {
    "tags": []
   },
   "outputs": [
    {
     "data": {
      "text/plain": [
       "(1625073,)"
      ]
     },
     "execution_count": 20,
     "metadata": {},
     "output_type": "execute_result"
    }
   ],
   "source": [
    "y.shape"
   ]
  },
  {
   "cell_type": "code",
   "execution_count": 21,
   "id": "58031eac-52ed-476b-9b6d-d437983d96fc",
   "metadata": {
    "tags": []
   },
   "outputs": [],
   "source": [
    "# make sure that we have a baseline guess\n",
    "# that is the same shape as our y variable:\n",
    "# np.repeat does what it sounds like\n",
    "baseline_array = np.repeat(baseline, y.shape[0])"
   ]
  },
  {
   "cell_type": "code",
   "execution_count": 22,
   "id": "843efed7-45bd-4bc7-a9a9-26d67dfd221b",
   "metadata": {
    "tags": []
   },
   "outputs": [],
   "source": [
    "baseline_rsme, baseline_r2 = evaluate_reg(y, baseline_array)"
   ]
  },
  {
   "cell_type": "markdown",
   "id": "fe2b065e-52a7-47d8-a29c-2101e8852036",
   "metadata": {},
   "source": [
    "<h3>Create a dataframe to compare the models<h3/>"
   ]
  },
  {
   "cell_type": "code",
   "execution_count": 23,
   "id": "924ac48c-8501-4d1e-8f63-e2e685d1ee64",
   "metadata": {
    "tags": []
   },
   "outputs": [],
   "source": [
    "eval_df = pd.DataFrame([{\n",
    "    'model': 'baseline',\n",
    "    'rmse': baseline_rsme,\n",
    "    'r2': baseline_r2\n",
    "}])"
   ]
  },
  {
   "cell_type": "code",
   "execution_count": 24,
   "id": "373f70fb-20ae-4e1f-acf9-5f6a8eb38b06",
   "metadata": {
    "tags": []
   },
   "outputs": [
    {
     "data": {
      "text/html": [
       "<div>\n",
       "<style scoped>\n",
       "    .dataframe tbody tr th:only-of-type {\n",
       "        vertical-align: middle;\n",
       "    }\n",
       "\n",
       "    .dataframe tbody tr th {\n",
       "        vertical-align: top;\n",
       "    }\n",
       "\n",
       "    .dataframe thead th {\n",
       "        text-align: right;\n",
       "    }\n",
       "</style>\n",
       "<table border=\"1\" class=\"dataframe\">\n",
       "  <thead>\n",
       "    <tr style=\"text-align: right;\">\n",
       "      <th></th>\n",
       "      <th>model</th>\n",
       "      <th>rmse</th>\n",
       "      <th>r2</th>\n",
       "    </tr>\n",
       "  </thead>\n",
       "  <tbody>\n",
       "    <tr>\n",
       "      <th>0</th>\n",
       "      <td>baseline</td>\n",
       "      <td>775618.398206</td>\n",
       "      <td>-0.148645</td>\n",
       "    </tr>\n",
       "  </tbody>\n",
       "</table>\n",
       "</div>"
      ],
      "text/plain": [
       "      model           rmse        r2\n",
       "0  baseline  775618.398206 -0.148645"
      ]
     },
     "execution_count": 24,
     "metadata": {},
     "output_type": "execute_result"
    }
   ],
   "source": [
    "eval_df"
   ]
  },
  {
   "cell_type": "markdown",
   "id": "acc97f31-b310-4ca4-933a-551f8b19d74a",
   "metadata": {},
   "source": [
    "<h3>------------------------------Ordinary Least Squares (OLS)------------------------------<h3/>"
   ]
  },
  {
   "cell_type": "code",
   "execution_count": 25,
   "id": "d6494d4c-edb5-4b16-8924-591f194e62d4",
   "metadata": {
    "tags": []
   },
   "outputs": [],
   "source": [
    "#IMPORT\n",
    "from sklearn.feature_selection import RFE"
   ]
  },
  {
   "cell_type": "markdown",
   "id": "01aa644b-bd29-4161-920b-cc457f38eb2d",
   "metadata": {},
   "source": [
    "<h4>Simple Linear Regression + RFE<h4/>"
   ]
  },
  {
   "cell_type": "code",
   "execution_count": 26,
   "id": "de178c69-011a-4c43-bf8b-b4793f533438",
   "metadata": {
    "tags": []
   },
   "outputs": [],
   "source": [
    "# first ML model\n",
    "lr1 = LinearRegression()\n",
    "\n",
    "# create the thing\n",
    "rfe = RFE(lr1, n_features_to_select = 3)\n",
    "\n",
    "# fit the thing\n",
    "rfe.fit(X, y)\n",
    "\n",
    "# use it/transform your X_train & validate data splits\n",
    "X_train_rfe = rfe.transform(X)\n",
    "\n",
    "X_val_rfe = rfe.transform(validate.drop(columns = ['Tax_value_dollars']))"
   ]
  },
  {
   "cell_type": "code",
   "execution_count": 27,
   "id": "af2f1f3f-1a23-4e71-8074-2f50acad7ce0",
   "metadata": {
    "tags": []
   },
   "outputs": [
    {
     "data": {
      "text/plain": [
       "array([[0.0625    , 0.00145605, 0.0012416 ],\n",
       "       [0.09375   , 0.00254468, 0.00248262],\n",
       "       [0.03125   , 0.00115371, 0.0015534 ],\n",
       "       ...,\n",
       "       [0.078125  , 0.00204603, 0.00107237],\n",
       "       [0.03125   , 0.00098155, 0.00049394],\n",
       "       [0.078125  , 0.00176889, 0.00206121]])"
      ]
     },
     "execution_count": 27,
     "metadata": {},
     "output_type": "execute_result"
    }
   ],
   "source": [
    "X_train_rfe"
   ]
  },
  {
   "cell_type": "code",
   "execution_count": 28,
   "id": "f4b09334-6358-4f4b-9898-57e848b190cc",
   "metadata": {
    "tags": []
   },
   "outputs": [
    {
     "data": {
      "text/plain": [
       "array(['Bathroom_Count_Scaled', 'Finished_sqft_Scaled',\n",
       "       'Tax_amount_Scaled'], dtype=object)"
      ]
     },
     "execution_count": 28,
     "metadata": {},
     "output_type": "execute_result"
    }
   ],
   "source": [
    "# What features got selected for predicting Tax_value dollars (also known as Home Value)??\n",
    "rfe.get_feature_names_out()"
   ]
  },
  {
   "cell_type": "code",
   "execution_count": 29,
   "id": "6f420a9b-3476-4db4-ba44-769821dae00e",
   "metadata": {
    "tags": []
   },
   "outputs": [],
   "source": [
    "#Creating a X and y for validate and test\n",
    "\n",
    "X_val, y_val = validate.drop(columns=['Tax_value_dollars']), validate['Tax_value_dollars']\n",
    "X_test, y_test = test.drop(columns=['Tax_value_dollars']), test['Tax_value_dollars']"
   ]
  },
  {
   "cell_type": "code",
   "execution_count": 30,
   "id": "21dd439e-a531-4b05-93d1-3c0b23cf6a97",
   "metadata": {
    "tags": []
   },
   "outputs": [
    {
     "data": {
      "text/html": [
       "<style>#sk-container-id-1 {color: black;}#sk-container-id-1 pre{padding: 0;}#sk-container-id-1 div.sk-toggleable {background-color: white;}#sk-container-id-1 label.sk-toggleable__label {cursor: pointer;display: block;width: 100%;margin-bottom: 0;padding: 0.3em;box-sizing: border-box;text-align: center;}#sk-container-id-1 label.sk-toggleable__label-arrow:before {content: \"▸\";float: left;margin-right: 0.25em;color: #696969;}#sk-container-id-1 label.sk-toggleable__label-arrow:hover:before {color: black;}#sk-container-id-1 div.sk-estimator:hover label.sk-toggleable__label-arrow:before {color: black;}#sk-container-id-1 div.sk-toggleable__content {max-height: 0;max-width: 0;overflow: hidden;text-align: left;background-color: #f0f8ff;}#sk-container-id-1 div.sk-toggleable__content pre {margin: 0.2em;color: black;border-radius: 0.25em;background-color: #f0f8ff;}#sk-container-id-1 input.sk-toggleable__control:checked~div.sk-toggleable__content {max-height: 200px;max-width: 100%;overflow: auto;}#sk-container-id-1 input.sk-toggleable__control:checked~label.sk-toggleable__label-arrow:before {content: \"▾\";}#sk-container-id-1 div.sk-estimator input.sk-toggleable__control:checked~label.sk-toggleable__label {background-color: #d4ebff;}#sk-container-id-1 div.sk-label input.sk-toggleable__control:checked~label.sk-toggleable__label {background-color: #d4ebff;}#sk-container-id-1 input.sk-hidden--visually {border: 0;clip: rect(1px 1px 1px 1px);clip: rect(1px, 1px, 1px, 1px);height: 1px;margin: -1px;overflow: hidden;padding: 0;position: absolute;width: 1px;}#sk-container-id-1 div.sk-estimator {font-family: monospace;background-color: #f0f8ff;border: 1px dotted black;border-radius: 0.25em;box-sizing: border-box;margin-bottom: 0.5em;}#sk-container-id-1 div.sk-estimator:hover {background-color: #d4ebff;}#sk-container-id-1 div.sk-parallel-item::after {content: \"\";width: 100%;border-bottom: 1px solid gray;flex-grow: 1;}#sk-container-id-1 div.sk-label:hover label.sk-toggleable__label {background-color: #d4ebff;}#sk-container-id-1 div.sk-serial::before {content: \"\";position: absolute;border-left: 1px solid gray;box-sizing: border-box;top: 0;bottom: 0;left: 50%;z-index: 0;}#sk-container-id-1 div.sk-serial {display: flex;flex-direction: column;align-items: center;background-color: white;padding-right: 0.2em;padding-left: 0.2em;position: relative;}#sk-container-id-1 div.sk-item {position: relative;z-index: 1;}#sk-container-id-1 div.sk-parallel {display: flex;align-items: stretch;justify-content: center;background-color: white;position: relative;}#sk-container-id-1 div.sk-item::before, #sk-container-id-1 div.sk-parallel-item::before {content: \"\";position: absolute;border-left: 1px solid gray;box-sizing: border-box;top: 0;bottom: 0;left: 50%;z-index: -1;}#sk-container-id-1 div.sk-parallel-item {display: flex;flex-direction: column;z-index: 1;position: relative;background-color: white;}#sk-container-id-1 div.sk-parallel-item:first-child::after {align-self: flex-end;width: 50%;}#sk-container-id-1 div.sk-parallel-item:last-child::after {align-self: flex-start;width: 50%;}#sk-container-id-1 div.sk-parallel-item:only-child::after {width: 0;}#sk-container-id-1 div.sk-dashed-wrapped {border: 1px dashed gray;margin: 0 0.4em 0.5em 0.4em;box-sizing: border-box;padding-bottom: 0.4em;background-color: white;}#sk-container-id-1 div.sk-label label {font-family: monospace;font-weight: bold;display: inline-block;line-height: 1.2em;}#sk-container-id-1 div.sk-label-container {text-align: center;}#sk-container-id-1 div.sk-container {/* jupyter's `normalize.less` sets `[hidden] { display: none; }` but bootstrap.min.css set `[hidden] { display: none !important; }` so we also need the `!important` here to be able to override the default hidden behavior on the sphinx rendered scikit-learn.org. See: https://github.com/scikit-learn/scikit-learn/issues/21755 */display: inline-block !important;position: relative;}#sk-container-id-1 div.sk-text-repr-fallback {display: none;}</style><div id=\"sk-container-id-1\" class=\"sk-top-container\"><div class=\"sk-text-repr-fallback\"><pre>LinearRegression()</pre><b>In a Jupyter environment, please rerun this cell to show the HTML representation or trust the notebook. <br />On GitHub, the HTML representation is unable to render, please try loading this page with nbviewer.org.</b></div><div class=\"sk-container\" hidden><div class=\"sk-item\"><div class=\"sk-estimator sk-toggleable\"><input class=\"sk-toggleable__control sk-hidden--visually\" id=\"sk-estimator-id-1\" type=\"checkbox\" checked><label for=\"sk-estimator-id-1\" class=\"sk-toggleable__label sk-toggleable__label-arrow\">LinearRegression</label><div class=\"sk-toggleable__content\"><pre>LinearRegression()</pre></div></div></div></div></div>"
      ],
      "text/plain": [
       "LinearRegression()"
      ]
     },
     "execution_count": 30,
     "metadata": {},
     "output_type": "execute_result"
    }
   ],
   "source": [
    "lr1"
   ]
  },
  {
   "cell_type": "code",
   "execution_count": 31,
   "id": "898c1b5d-2a55-4a4a-a7ab-6656ef35c3d0",
   "metadata": {
    "tags": []
   },
   "outputs": [
    {
     "data": {
      "text/html": [
       "<style>#sk-container-id-2 {color: black;}#sk-container-id-2 pre{padding: 0;}#sk-container-id-2 div.sk-toggleable {background-color: white;}#sk-container-id-2 label.sk-toggleable__label {cursor: pointer;display: block;width: 100%;margin-bottom: 0;padding: 0.3em;box-sizing: border-box;text-align: center;}#sk-container-id-2 label.sk-toggleable__label-arrow:before {content: \"▸\";float: left;margin-right: 0.25em;color: #696969;}#sk-container-id-2 label.sk-toggleable__label-arrow:hover:before {color: black;}#sk-container-id-2 div.sk-estimator:hover label.sk-toggleable__label-arrow:before {color: black;}#sk-container-id-2 div.sk-toggleable__content {max-height: 0;max-width: 0;overflow: hidden;text-align: left;background-color: #f0f8ff;}#sk-container-id-2 div.sk-toggleable__content pre {margin: 0.2em;color: black;border-radius: 0.25em;background-color: #f0f8ff;}#sk-container-id-2 input.sk-toggleable__control:checked~div.sk-toggleable__content {max-height: 200px;max-width: 100%;overflow: auto;}#sk-container-id-2 input.sk-toggleable__control:checked~label.sk-toggleable__label-arrow:before {content: \"▾\";}#sk-container-id-2 div.sk-estimator input.sk-toggleable__control:checked~label.sk-toggleable__label {background-color: #d4ebff;}#sk-container-id-2 div.sk-label input.sk-toggleable__control:checked~label.sk-toggleable__label {background-color: #d4ebff;}#sk-container-id-2 input.sk-hidden--visually {border: 0;clip: rect(1px 1px 1px 1px);clip: rect(1px, 1px, 1px, 1px);height: 1px;margin: -1px;overflow: hidden;padding: 0;position: absolute;width: 1px;}#sk-container-id-2 div.sk-estimator {font-family: monospace;background-color: #f0f8ff;border: 1px dotted black;border-radius: 0.25em;box-sizing: border-box;margin-bottom: 0.5em;}#sk-container-id-2 div.sk-estimator:hover {background-color: #d4ebff;}#sk-container-id-2 div.sk-parallel-item::after {content: \"\";width: 100%;border-bottom: 1px solid gray;flex-grow: 1;}#sk-container-id-2 div.sk-label:hover label.sk-toggleable__label {background-color: #d4ebff;}#sk-container-id-2 div.sk-serial::before {content: \"\";position: absolute;border-left: 1px solid gray;box-sizing: border-box;top: 0;bottom: 0;left: 50%;z-index: 0;}#sk-container-id-2 div.sk-serial {display: flex;flex-direction: column;align-items: center;background-color: white;padding-right: 0.2em;padding-left: 0.2em;position: relative;}#sk-container-id-2 div.sk-item {position: relative;z-index: 1;}#sk-container-id-2 div.sk-parallel {display: flex;align-items: stretch;justify-content: center;background-color: white;position: relative;}#sk-container-id-2 div.sk-item::before, #sk-container-id-2 div.sk-parallel-item::before {content: \"\";position: absolute;border-left: 1px solid gray;box-sizing: border-box;top: 0;bottom: 0;left: 50%;z-index: -1;}#sk-container-id-2 div.sk-parallel-item {display: flex;flex-direction: column;z-index: 1;position: relative;background-color: white;}#sk-container-id-2 div.sk-parallel-item:first-child::after {align-self: flex-end;width: 50%;}#sk-container-id-2 div.sk-parallel-item:last-child::after {align-self: flex-start;width: 50%;}#sk-container-id-2 div.sk-parallel-item:only-child::after {width: 0;}#sk-container-id-2 div.sk-dashed-wrapped {border: 1px dashed gray;margin: 0 0.4em 0.5em 0.4em;box-sizing: border-box;padding-bottom: 0.4em;background-color: white;}#sk-container-id-2 div.sk-label label {font-family: monospace;font-weight: bold;display: inline-block;line-height: 1.2em;}#sk-container-id-2 div.sk-label-container {text-align: center;}#sk-container-id-2 div.sk-container {/* jupyter's `normalize.less` sets `[hidden] { display: none; }` but bootstrap.min.css set `[hidden] { display: none !important; }` so we also need the `!important` here to be able to override the default hidden behavior on the sphinx rendered scikit-learn.org. See: https://github.com/scikit-learn/scikit-learn/issues/21755 */display: inline-block !important;position: relative;}#sk-container-id-2 div.sk-text-repr-fallback {display: none;}</style><div id=\"sk-container-id-2\" class=\"sk-top-container\"><div class=\"sk-text-repr-fallback\"><pre>LinearRegression()</pre><b>In a Jupyter environment, please rerun this cell to show the HTML representation or trust the notebook. <br />On GitHub, the HTML representation is unable to render, please try loading this page with nbviewer.org.</b></div><div class=\"sk-container\" hidden><div class=\"sk-item\"><div class=\"sk-estimator sk-toggleable\"><input class=\"sk-toggleable__control sk-hidden--visually\" id=\"sk-estimator-id-2\" type=\"checkbox\" checked><label for=\"sk-estimator-id-2\" class=\"sk-toggleable__label sk-toggleable__label-arrow\">LinearRegression</label><div class=\"sk-toggleable__content\"><pre>LinearRegression()</pre></div></div></div></div></div>"
      ],
      "text/plain": [
       "LinearRegression()"
      ]
     },
     "execution_count": 31,
     "metadata": {},
     "output_type": "execute_result"
    }
   ],
   "source": [
    "lr1.fit(X_train_rfe, y)"
   ]
  },
  {
   "cell_type": "code",
   "execution_count": 32,
   "id": "d00d0422-13f8-438f-88da-4a0e030b0d0d",
   "metadata": {
    "tags": []
   },
   "outputs": [],
   "source": [
    "y_pred_val = lr1.predict(X_val_rfe)"
   ]
  },
  {
   "cell_type": "code",
   "execution_count": 33,
   "id": "7030be15-1e67-4a33-8ff8-683144f48108",
   "metadata": {
    "tags": []
   },
   "outputs": [
    {
     "data": {
      "text/plain": [
       "(171760.37890782804, 0.9436705190590959)"
      ]
     },
     "execution_count": 33,
     "metadata": {},
     "output_type": "execute_result"
    }
   ],
   "source": [
    "evaluate_reg(y, lr1.predict(X_train_rfe))"
   ]
  },
  {
   "cell_type": "code",
   "execution_count": 34,
   "id": "68a96bb1-0fa5-4f6a-a4fa-9db9019ceedf",
   "metadata": {
    "tags": []
   },
   "outputs": [
    {
     "data": {
      "text/plain": [
       "Index(['model', 'rmse', 'r2'], dtype='object')"
      ]
     },
     "execution_count": 34,
     "metadata": {},
     "output_type": "execute_result"
    }
   ],
   "source": [
    "eval_df.columns"
   ]
  },
  {
   "cell_type": "code",
   "execution_count": 35,
   "id": "c7bcb3fe-b576-44ca-be13-8b4c796c2c2a",
   "metadata": {
    "tags": []
   },
   "outputs": [],
   "source": [
    "rmse, r_2 = evaluate_reg(y, lr1.predict(X_train_rfe))\n",
    "eval_df = pd.concat([eval_df, pd.DataFrame(\n",
    "[\n",
    "    {\n",
    "        'model': 'ols_rfe_1',\n",
    "        'rmse': rmse,\n",
    "        'r2': r_2\n",
    "    }\n",
    "])], ignore_index=True, axis=0)"
   ]
  },
  {
   "cell_type": "code",
   "execution_count": 36,
   "id": "d037e79b-9c89-448e-a09a-e5b74a5119c7",
   "metadata": {
    "tags": []
   },
   "outputs": [
    {
     "data": {
      "text/html": [
       "<div>\n",
       "<style scoped>\n",
       "    .dataframe tbody tr th:only-of-type {\n",
       "        vertical-align: middle;\n",
       "    }\n",
       "\n",
       "    .dataframe tbody tr th {\n",
       "        vertical-align: top;\n",
       "    }\n",
       "\n",
       "    .dataframe thead th {\n",
       "        text-align: right;\n",
       "    }\n",
       "</style>\n",
       "<table border=\"1\" class=\"dataframe\">\n",
       "  <thead>\n",
       "    <tr style=\"text-align: right;\">\n",
       "      <th></th>\n",
       "      <th>model</th>\n",
       "      <th>rmse</th>\n",
       "      <th>r2</th>\n",
       "    </tr>\n",
       "  </thead>\n",
       "  <tbody>\n",
       "    <tr>\n",
       "      <th>0</th>\n",
       "      <td>baseline</td>\n",
       "      <td>775618.398206</td>\n",
       "      <td>-0.148645</td>\n",
       "    </tr>\n",
       "    <tr>\n",
       "      <th>1</th>\n",
       "      <td>ols_rfe_1</td>\n",
       "      <td>171760.378908</td>\n",
       "      <td>0.943671</td>\n",
       "    </tr>\n",
       "  </tbody>\n",
       "</table>\n",
       "</div>"
      ],
      "text/plain": [
       "       model           rmse        r2\n",
       "0   baseline  775618.398206 -0.148645\n",
       "1  ols_rfe_1  171760.378908  0.943671"
      ]
     },
     "execution_count": 36,
     "metadata": {},
     "output_type": "execute_result"
    }
   ],
   "source": [
    "eval_df"
   ]
  },
  {
   "cell_type": "code",
   "execution_count": 37,
   "id": "7ca30f6c-fb8f-47b1-a5a9-64b969049816",
   "metadata": {
    "tags": []
   },
   "outputs": [
    {
     "data": {
      "text/plain": [
       "array([6.07139134e+05, 1.07784136e+05, 2.60379901e+08])"
      ]
     },
     "execution_count": 37,
     "metadata": {},
     "output_type": "execute_result"
    }
   ],
   "source": [
    "lr1.coef_"
   ]
  },
  {
   "cell_type": "code",
   "execution_count": 38,
   "id": "5985d81f-a733-428c-9744-a5019c21e6ba",
   "metadata": {
    "tags": []
   },
   "outputs": [
    {
     "data": {
      "text/plain": [
       "-31640.37311124074"
      ]
     },
     "execution_count": 38,
     "metadata": {},
     "output_type": "execute_result"
    }
   ],
   "source": [
    "lr1.intercept_"
   ]
  },
  {
   "cell_type": "code",
   "execution_count": 39,
   "id": "5256dcca-9696-49f6-8bef-b796ac025ef5",
   "metadata": {
    "tags": []
   },
   "outputs": [
    {
     "name": "stdout",
     "output_type": "stream",
     "text": [
      "For every 1 point increase in \"Bedroom Count\", we predict a 607139.13 point increase or decrease in Home Value\n",
      "For every 1 point increase in \"Bathroom Count\", we predict a 107784.14 point increase or decrease in Home Value\n",
      "For every 1 point increase in \"Year Built\", we predict a 260379900.50 point increase or decrease in Home Value\n"
     ]
    }
   ],
   "source": [
    "#For Variable 1:\n",
    "print(f'For every 1 point increase in \"Bedroom Count\", we predict a {lr1.coef_[0]:.2f} point increase or decrease in Home Value')\n",
    "#For Variable 2:\n",
    "print(f'For every 1 point increase in \"Bathroom Count\", we predict a {lr1.coef_[1]:.2f} point increase or decrease in Home Value')\n",
    "#For Variable 3:\n",
    "print(f'For every 1 point increase in \"Year Built\", we predict a {lr1.coef_[2]:.2f} point increase or decrease in Home Value')\n"
   ]
  },
  {
   "cell_type": "code",
   "execution_count": 40,
   "id": "9c546950-39cf-49c5-99ea-936aadacce87",
   "metadata": {
    "tags": []
   },
   "outputs": [],
   "source": [
    "val_rmse, val_r2 = evaluate_reg(y_val, lr1.predict(X_val_rfe))\n",
    "val_dict = {\n",
    "    'model': 'ols_rfe_1',\n",
    "    'val_rmse': val_rmse,\n",
    "    'val_r2': val_r2\n",
    "}"
   ]
  },
  {
   "cell_type": "code",
   "execution_count": 41,
   "id": "ea7c69af-01fc-4841-ac60-c2eff7e00d6c",
   "metadata": {
    "tags": []
   },
   "outputs": [],
   "source": [
    "val_scores = [val_dict]"
   ]
  },
  {
   "cell_type": "markdown",
   "id": "0ab05f16-d39b-4ac4-aa29-c45271abda6c",
   "metadata": {
    "tags": []
   },
   "source": [
    "<h3>------------------------------Multiple Regression------------------------------<h3/>"
   ]
  },
  {
   "cell_type": "code",
   "execution_count": 42,
   "id": "6083153e-cbfe-4679-9c5f-f9eff56a537d",
   "metadata": {
    "tags": []
   },
   "outputs": [
    {
     "data": {
      "text/html": [
       "<style>#sk-container-id-3 {color: black;}#sk-container-id-3 pre{padding: 0;}#sk-container-id-3 div.sk-toggleable {background-color: white;}#sk-container-id-3 label.sk-toggleable__label {cursor: pointer;display: block;width: 100%;margin-bottom: 0;padding: 0.3em;box-sizing: border-box;text-align: center;}#sk-container-id-3 label.sk-toggleable__label-arrow:before {content: \"▸\";float: left;margin-right: 0.25em;color: #696969;}#sk-container-id-3 label.sk-toggleable__label-arrow:hover:before {color: black;}#sk-container-id-3 div.sk-estimator:hover label.sk-toggleable__label-arrow:before {color: black;}#sk-container-id-3 div.sk-toggleable__content {max-height: 0;max-width: 0;overflow: hidden;text-align: left;background-color: #f0f8ff;}#sk-container-id-3 div.sk-toggleable__content pre {margin: 0.2em;color: black;border-radius: 0.25em;background-color: #f0f8ff;}#sk-container-id-3 input.sk-toggleable__control:checked~div.sk-toggleable__content {max-height: 200px;max-width: 100%;overflow: auto;}#sk-container-id-3 input.sk-toggleable__control:checked~label.sk-toggleable__label-arrow:before {content: \"▾\";}#sk-container-id-3 div.sk-estimator input.sk-toggleable__control:checked~label.sk-toggleable__label {background-color: #d4ebff;}#sk-container-id-3 div.sk-label input.sk-toggleable__control:checked~label.sk-toggleable__label {background-color: #d4ebff;}#sk-container-id-3 input.sk-hidden--visually {border: 0;clip: rect(1px 1px 1px 1px);clip: rect(1px, 1px, 1px, 1px);height: 1px;margin: -1px;overflow: hidden;padding: 0;position: absolute;width: 1px;}#sk-container-id-3 div.sk-estimator {font-family: monospace;background-color: #f0f8ff;border: 1px dotted black;border-radius: 0.25em;box-sizing: border-box;margin-bottom: 0.5em;}#sk-container-id-3 div.sk-estimator:hover {background-color: #d4ebff;}#sk-container-id-3 div.sk-parallel-item::after {content: \"\";width: 100%;border-bottom: 1px solid gray;flex-grow: 1;}#sk-container-id-3 div.sk-label:hover label.sk-toggleable__label {background-color: #d4ebff;}#sk-container-id-3 div.sk-serial::before {content: \"\";position: absolute;border-left: 1px solid gray;box-sizing: border-box;top: 0;bottom: 0;left: 50%;z-index: 0;}#sk-container-id-3 div.sk-serial {display: flex;flex-direction: column;align-items: center;background-color: white;padding-right: 0.2em;padding-left: 0.2em;position: relative;}#sk-container-id-3 div.sk-item {position: relative;z-index: 1;}#sk-container-id-3 div.sk-parallel {display: flex;align-items: stretch;justify-content: center;background-color: white;position: relative;}#sk-container-id-3 div.sk-item::before, #sk-container-id-3 div.sk-parallel-item::before {content: \"\";position: absolute;border-left: 1px solid gray;box-sizing: border-box;top: 0;bottom: 0;left: 50%;z-index: -1;}#sk-container-id-3 div.sk-parallel-item {display: flex;flex-direction: column;z-index: 1;position: relative;background-color: white;}#sk-container-id-3 div.sk-parallel-item:first-child::after {align-self: flex-end;width: 50%;}#sk-container-id-3 div.sk-parallel-item:last-child::after {align-self: flex-start;width: 50%;}#sk-container-id-3 div.sk-parallel-item:only-child::after {width: 0;}#sk-container-id-3 div.sk-dashed-wrapped {border: 1px dashed gray;margin: 0 0.4em 0.5em 0.4em;box-sizing: border-box;padding-bottom: 0.4em;background-color: white;}#sk-container-id-3 div.sk-label label {font-family: monospace;font-weight: bold;display: inline-block;line-height: 1.2em;}#sk-container-id-3 div.sk-label-container {text-align: center;}#sk-container-id-3 div.sk-container {/* jupyter's `normalize.less` sets `[hidden] { display: none; }` but bootstrap.min.css set `[hidden] { display: none !important; }` so we also need the `!important` here to be able to override the default hidden behavior on the sphinx rendered scikit-learn.org. See: https://github.com/scikit-learn/scikit-learn/issues/21755 */display: inline-block !important;position: relative;}#sk-container-id-3 div.sk-text-repr-fallback {display: none;}</style><div id=\"sk-container-id-3\" class=\"sk-top-container\"><div class=\"sk-text-repr-fallback\"><pre>LinearRegression()</pre><b>In a Jupyter environment, please rerun this cell to show the HTML representation or trust the notebook. <br />On GitHub, the HTML representation is unable to render, please try loading this page with nbviewer.org.</b></div><div class=\"sk-container\" hidden><div class=\"sk-item\"><div class=\"sk-estimator sk-toggleable\"><input class=\"sk-toggleable__control sk-hidden--visually\" id=\"sk-estimator-id-3\" type=\"checkbox\" checked><label for=\"sk-estimator-id-3\" class=\"sk-toggleable__label sk-toggleable__label-arrow\">LinearRegression</label><div class=\"sk-toggleable__content\"><pre>LinearRegression()</pre></div></div></div></div></div>"
      ],
      "text/plain": [
       "LinearRegression()"
      ]
     },
     "execution_count": 42,
     "metadata": {},
     "output_type": "execute_result"
    }
   ],
   "source": [
    "# same process here, we are just changing the number of features that we are using in selecting our outcome in OLS\n",
    "\n",
    "lr2 = LinearRegression()\n",
    "\n",
    "# fit it:\n",
    "lr2.fit(X, y)\n",
    "\n",
    "# use it:"
   ]
  },
  {
   "cell_type": "code",
   "execution_count": 43,
   "id": "ee95f61a-e64e-49d6-9c89-d5198b62ee64",
   "metadata": {
    "tags": []
   },
   "outputs": [],
   "source": [
    "rmse, r_2 = evaluate_reg(y, lr2.predict(X))\n",
    "eval_df = pd.concat([eval_df, pd.DataFrame(\n",
    "[\n",
    "    {\n",
    "        'model': 'Multiple Regression - All Features',\n",
    "        'rmse': rmse,\n",
    "        'r2': r_2\n",
    "        \n",
    "    }\n",
    "])], ignore_index=True, axis=0)"
   ]
  },
  {
   "cell_type": "code",
   "execution_count": 44,
   "id": "738c408a-1d0b-4436-b07e-d389dc4f21b9",
   "metadata": {
    "tags": []
   },
   "outputs": [],
   "source": [
    "val_rmse, val_r2 = evaluate_reg(y_val, lr2.predict(X_val))\n",
    "val_dict = {\n",
    "    'model': 'Multiple Regression - All Features',\n",
    "    'rmse': val_rmse,\n",
    "    'r2': val_r2\n",
    "}\n",
    "val_scores.append(val_dict)"
   ]
  },
  {
   "cell_type": "code",
   "execution_count": 45,
   "id": "67908201-fca3-4b38-9585-f9f7c81a130c",
   "metadata": {
    "tags": []
   },
   "outputs": [
    {
     "data": {
      "text/html": [
       "<div>\n",
       "<style scoped>\n",
       "    .dataframe tbody tr th:only-of-type {\n",
       "        vertical-align: middle;\n",
       "    }\n",
       "\n",
       "    .dataframe tbody tr th {\n",
       "        vertical-align: top;\n",
       "    }\n",
       "\n",
       "    .dataframe thead th {\n",
       "        text-align: right;\n",
       "    }\n",
       "</style>\n",
       "<table border=\"1\" class=\"dataframe\">\n",
       "  <thead>\n",
       "    <tr style=\"text-align: right;\">\n",
       "      <th></th>\n",
       "      <th>model</th>\n",
       "      <th>rmse</th>\n",
       "      <th>r2</th>\n",
       "    </tr>\n",
       "  </thead>\n",
       "  <tbody>\n",
       "    <tr>\n",
       "      <th>0</th>\n",
       "      <td>baseline</td>\n",
       "      <td>775618.398206</td>\n",
       "      <td>-0.148645</td>\n",
       "    </tr>\n",
       "    <tr>\n",
       "      <th>1</th>\n",
       "      <td>ols_rfe_1</td>\n",
       "      <td>171760.378908</td>\n",
       "      <td>0.943671</td>\n",
       "    </tr>\n",
       "    <tr>\n",
       "      <th>2</th>\n",
       "      <td>Multiple Regression - All Features</td>\n",
       "      <td>170903.298069</td>\n",
       "      <td>0.944231</td>\n",
       "    </tr>\n",
       "  </tbody>\n",
       "</table>\n",
       "</div>"
      ],
      "text/plain": [
       "                                model           rmse        r2\n",
       "0                            baseline  775618.398206 -0.148645\n",
       "1                           ols_rfe_1  171760.378908  0.943671\n",
       "2  Multiple Regression - All Features  170903.298069  0.944231"
      ]
     },
     "execution_count": 45,
     "metadata": {},
     "output_type": "execute_result"
    }
   ],
   "source": [
    "eval_df"
   ]
  },
  {
   "cell_type": "markdown",
   "id": "c5ea42fc-3b8e-4131-b3bc-83ede900fa9f",
   "metadata": {},
   "source": [
    "<h3>------------------------------LassoLars------------------------------<h3/>"
   ]
  },
  {
   "cell_type": "code",
   "execution_count": 46,
   "id": "43700c29-9a2f-4993-8b7b-509ca05ebd60",
   "metadata": {
    "tags": []
   },
   "outputs": [],
   "source": [
    "from sklearn.linear_model import LassoLars"
   ]
  },
  {
   "cell_type": "code",
   "execution_count": 47,
   "id": "fc930ca6-a70d-4d0a-b593-c9511a61887f",
   "metadata": {
    "tags": []
   },
   "outputs": [],
   "source": [
    "#Make the thing\n",
    "lasso = LassoLars(alpha=1)\n",
    "\n",
    "#Fit the thing\n",
    "lasso = lasso.fit(X, y)"
   ]
  },
  {
   "cell_type": "code",
   "execution_count": 48,
   "id": "b89d2c9e-e30b-46e8-bd0c-c29f45e7c008",
   "metadata": {
    "tags": []
   },
   "outputs": [
    {
     "data": {
      "text/plain": [
       "array([-2.96806459e+02,  7.75153058e+02, -2.80120228e+05,  9.65876083e+05,\n",
       "        1.89811280e+05,  2.59934338e+08])"
      ]
     },
     "execution_count": 48,
     "metadata": {},
     "output_type": "execute_result"
    }
   ],
   "source": [
    "lasso.coef_"
   ]
  },
  {
   "cell_type": "code",
   "execution_count": 49,
   "id": "fe1b4cba-be43-41f0-9a5e-459689d056dc",
   "metadata": {
    "tags": []
   },
   "outputs": [
    {
     "data": {
      "text/plain": [
       "array([-2.97915676e+02,  7.75262954e+02, -2.82012036e+05,  9.62135316e+05,\n",
       "        4.44026804e+05,  2.59985862e+08])"
      ]
     },
     "execution_count": 49,
     "metadata": {},
     "output_type": "execute_result"
    }
   ],
   "source": [
    "lr2.coef_"
   ]
  },
  {
   "cell_type": "code",
   "execution_count": 50,
   "id": "3907cebf-98af-4987-a019-10834b8325aa",
   "metadata": {
    "tags": []
   },
   "outputs": [],
   "source": [
    "rmse, r_2 = evaluate_reg(y, lasso.predict(X))\n",
    "eval_df = pd.concat([eval_df, pd.DataFrame(\n",
    "[\n",
    "    {\n",
    "        'model': 'lasso',\n",
    "        'rmse': rmse,\n",
    "        'r2': r_2\n",
    "    }\n",
    "])], ignore_index=True, axis=0)"
   ]
  },
  {
   "cell_type": "code",
   "execution_count": 51,
   "id": "a71fe3f0-0b65-40e8-8f2b-1a3c5fb4dbe4",
   "metadata": {
    "tags": []
   },
   "outputs": [],
   "source": [
    "val_rmse, val_r2 = evaluate_reg(y_val, lasso.predict(X_val))\n",
    "val_dict = {\n",
    "    'model': 'lasso',\n",
    "    'val_rmse': val_rmse,\n",
    "    'val_r2': val_r2\n",
    "}"
   ]
  },
  {
   "cell_type": "code",
   "execution_count": 52,
   "id": "1bd7c929-f2c4-478b-938e-450c9dc20b42",
   "metadata": {
    "tags": []
   },
   "outputs": [],
   "source": [
    "val_scores.append(val_dict)"
   ]
  },
  {
   "cell_type": "code",
   "execution_count": 53,
   "id": "d3a998ae-65a5-4ebe-8df3-5a887f1aab8b",
   "metadata": {
    "tags": []
   },
   "outputs": [
    {
     "data": {
      "text/html": [
       "<div>\n",
       "<style scoped>\n",
       "    .dataframe tbody tr th:only-of-type {\n",
       "        vertical-align: middle;\n",
       "    }\n",
       "\n",
       "    .dataframe tbody tr th {\n",
       "        vertical-align: top;\n",
       "    }\n",
       "\n",
       "    .dataframe thead th {\n",
       "        text-align: right;\n",
       "    }\n",
       "</style>\n",
       "<table border=\"1\" class=\"dataframe\">\n",
       "  <thead>\n",
       "    <tr style=\"text-align: right;\">\n",
       "      <th></th>\n",
       "      <th>model</th>\n",
       "      <th>rmse</th>\n",
       "      <th>r2</th>\n",
       "    </tr>\n",
       "  </thead>\n",
       "  <tbody>\n",
       "    <tr>\n",
       "      <th>0</th>\n",
       "      <td>baseline</td>\n",
       "      <td>775618.398206</td>\n",
       "      <td>-0.148645</td>\n",
       "    </tr>\n",
       "    <tr>\n",
       "      <th>1</th>\n",
       "      <td>ols_rfe_1</td>\n",
       "      <td>171760.378908</td>\n",
       "      <td>0.943671</td>\n",
       "    </tr>\n",
       "    <tr>\n",
       "      <th>2</th>\n",
       "      <td>Multiple Regression - All Features</td>\n",
       "      <td>170903.298069</td>\n",
       "      <td>0.944231</td>\n",
       "    </tr>\n",
       "    <tr>\n",
       "      <th>3</th>\n",
       "      <td>lasso</td>\n",
       "      <td>170904.187141</td>\n",
       "      <td>0.944231</td>\n",
       "    </tr>\n",
       "  </tbody>\n",
       "</table>\n",
       "</div>"
      ],
      "text/plain": [
       "                                model           rmse        r2\n",
       "0                            baseline  775618.398206 -0.148645\n",
       "1                           ols_rfe_1  171760.378908  0.943671\n",
       "2  Multiple Regression - All Features  170903.298069  0.944231\n",
       "3                               lasso  170904.187141  0.944231"
      ]
     },
     "execution_count": 53,
     "metadata": {},
     "output_type": "execute_result"
    }
   ],
   "source": [
    "eval_df"
   ]
  },
  {
   "cell_type": "markdown",
   "id": "44ed7e34-bb9a-4f29-a1e9-dc5c3f8c618a",
   "metadata": {
    "tags": []
   },
   "source": [
    "<h3>------------------------------Polynomial Regression------------------------------<h3/>"
   ]
  },
  {
   "cell_type": "code",
   "execution_count": 54,
   "id": "510ceb24-4696-44e8-882d-393a9e18b338",
   "metadata": {
    "tags": []
   },
   "outputs": [],
   "source": [
    "from sklearn.preprocessing import PolynomialFeatures"
   ]
  },
  {
   "cell_type": "code",
   "execution_count": 55,
   "id": "5b9d422a-372f-4be8-ae5f-7a9605b3c0de",
   "metadata": {
    "tags": []
   },
   "outputs": [],
   "source": [
    "#Make the thing\n",
    "pf = PolynomialFeatures(degree=2)\n",
    "\n",
    "#fit the thing and USE it on train\n",
    "x_train_sq = pf.fit_transform(X)\n",
    "\n",
    "#Use the thing on Val and Test\n",
    "x_val_sq = pf.transform(X_val)\n",
    "x_test_sq = pf.transform(X_test)"
   ]
  },
  {
   "cell_type": "code",
   "execution_count": 56,
   "id": "0990fe7c-6c36-49e2-b146-8c7ba394d6bd",
   "metadata": {
    "tags": []
   },
   "outputs": [
    {
     "data": {
      "text/html": [
       "<style>#sk-container-id-4 {color: black;}#sk-container-id-4 pre{padding: 0;}#sk-container-id-4 div.sk-toggleable {background-color: white;}#sk-container-id-4 label.sk-toggleable__label {cursor: pointer;display: block;width: 100%;margin-bottom: 0;padding: 0.3em;box-sizing: border-box;text-align: center;}#sk-container-id-4 label.sk-toggleable__label-arrow:before {content: \"▸\";float: left;margin-right: 0.25em;color: #696969;}#sk-container-id-4 label.sk-toggleable__label-arrow:hover:before {color: black;}#sk-container-id-4 div.sk-estimator:hover label.sk-toggleable__label-arrow:before {color: black;}#sk-container-id-4 div.sk-toggleable__content {max-height: 0;max-width: 0;overflow: hidden;text-align: left;background-color: #f0f8ff;}#sk-container-id-4 div.sk-toggleable__content pre {margin: 0.2em;color: black;border-radius: 0.25em;background-color: #f0f8ff;}#sk-container-id-4 input.sk-toggleable__control:checked~div.sk-toggleable__content {max-height: 200px;max-width: 100%;overflow: auto;}#sk-container-id-4 input.sk-toggleable__control:checked~label.sk-toggleable__label-arrow:before {content: \"▾\";}#sk-container-id-4 div.sk-estimator input.sk-toggleable__control:checked~label.sk-toggleable__label {background-color: #d4ebff;}#sk-container-id-4 div.sk-label input.sk-toggleable__control:checked~label.sk-toggleable__label {background-color: #d4ebff;}#sk-container-id-4 input.sk-hidden--visually {border: 0;clip: rect(1px 1px 1px 1px);clip: rect(1px, 1px, 1px, 1px);height: 1px;margin: -1px;overflow: hidden;padding: 0;position: absolute;width: 1px;}#sk-container-id-4 div.sk-estimator {font-family: monospace;background-color: #f0f8ff;border: 1px dotted black;border-radius: 0.25em;box-sizing: border-box;margin-bottom: 0.5em;}#sk-container-id-4 div.sk-estimator:hover {background-color: #d4ebff;}#sk-container-id-4 div.sk-parallel-item::after {content: \"\";width: 100%;border-bottom: 1px solid gray;flex-grow: 1;}#sk-container-id-4 div.sk-label:hover label.sk-toggleable__label {background-color: #d4ebff;}#sk-container-id-4 div.sk-serial::before {content: \"\";position: absolute;border-left: 1px solid gray;box-sizing: border-box;top: 0;bottom: 0;left: 50%;z-index: 0;}#sk-container-id-4 div.sk-serial {display: flex;flex-direction: column;align-items: center;background-color: white;padding-right: 0.2em;padding-left: 0.2em;position: relative;}#sk-container-id-4 div.sk-item {position: relative;z-index: 1;}#sk-container-id-4 div.sk-parallel {display: flex;align-items: stretch;justify-content: center;background-color: white;position: relative;}#sk-container-id-4 div.sk-item::before, #sk-container-id-4 div.sk-parallel-item::before {content: \"\";position: absolute;border-left: 1px solid gray;box-sizing: border-box;top: 0;bottom: 0;left: 50%;z-index: -1;}#sk-container-id-4 div.sk-parallel-item {display: flex;flex-direction: column;z-index: 1;position: relative;background-color: white;}#sk-container-id-4 div.sk-parallel-item:first-child::after {align-self: flex-end;width: 50%;}#sk-container-id-4 div.sk-parallel-item:last-child::after {align-self: flex-start;width: 50%;}#sk-container-id-4 div.sk-parallel-item:only-child::after {width: 0;}#sk-container-id-4 div.sk-dashed-wrapped {border: 1px dashed gray;margin: 0 0.4em 0.5em 0.4em;box-sizing: border-box;padding-bottom: 0.4em;background-color: white;}#sk-container-id-4 div.sk-label label {font-family: monospace;font-weight: bold;display: inline-block;line-height: 1.2em;}#sk-container-id-4 div.sk-label-container {text-align: center;}#sk-container-id-4 div.sk-container {/* jupyter's `normalize.less` sets `[hidden] { display: none; }` but bootstrap.min.css set `[hidden] { display: none !important; }` so we also need the `!important` here to be able to override the default hidden behavior on the sphinx rendered scikit-learn.org. See: https://github.com/scikit-learn/scikit-learn/issues/21755 */display: inline-block !important;position: relative;}#sk-container-id-4 div.sk-text-repr-fallback {display: none;}</style><div id=\"sk-container-id-4\" class=\"sk-top-container\"><div class=\"sk-text-repr-fallback\"><pre>LinearRegression()</pre><b>In a Jupyter environment, please rerun this cell to show the HTML representation or trust the notebook. <br />On GitHub, the HTML representation is unable to render, please try loading this page with nbviewer.org.</b></div><div class=\"sk-container\" hidden><div class=\"sk-item\"><div class=\"sk-estimator sk-toggleable\"><input class=\"sk-toggleable__control sk-hidden--visually\" id=\"sk-estimator-id-4\" type=\"checkbox\" checked><label for=\"sk-estimator-id-4\" class=\"sk-toggleable__label sk-toggleable__label-arrow\">LinearRegression</label><div class=\"sk-toggleable__content\"><pre>LinearRegression()</pre></div></div></div></div></div>"
      ],
      "text/plain": [
       "LinearRegression()"
      ]
     },
     "execution_count": 56,
     "metadata": {},
     "output_type": "execute_result"
    }
   ],
   "source": [
    "# Make a new model for our polynomial regressor:\n",
    "\n",
    "plyreg = LinearRegression()\n",
    "plyreg.fit(x_train_sq, y)"
   ]
  },
  {
   "cell_type": "code",
   "execution_count": 57,
   "id": "2b94d4a5-6616-4371-b4e7-14dc227842b1",
   "metadata": {
    "tags": []
   },
   "outputs": [],
   "source": [
    "#Evaluate\n",
    "\n",
    "rmse, r_2 = evaluate_reg(y, plyreg.predict(x_train_sq))\n",
    "eval_df = pd.concat([eval_df, pd.DataFrame(\n",
    "[{\n",
    "    'model': 'quad_reg',\n",
    "    'rmse': rmse,\n",
    "    'r2': r_2\n",
    "}\n",
    "\n",
    "]\n",
    ")], ignore_index=True, axis=0 )"
   ]
  },
  {
   "cell_type": "code",
   "execution_count": 58,
   "id": "63f259ea-8e36-436f-b2d3-2a69e21161b2",
   "metadata": {
    "tags": []
   },
   "outputs": [],
   "source": [
    "val_rmse, val_r2 = evaluate_reg(y_val, plyreg.predict(x_val_sq))\n",
    "val_dict = {\n",
    "    'model': 'quad_reg',\n",
    "    'rmse': val_rmse,\n",
    "    'r2': val_r2\n",
    "}"
   ]
  },
  {
   "cell_type": "code",
   "execution_count": 59,
   "id": "43f842d1-83b8-4c42-b27b-0d69352ac998",
   "metadata": {
    "tags": []
   },
   "outputs": [],
   "source": [
    "val_scores.append(val_dict)"
   ]
  },
  {
   "cell_type": "code",
   "execution_count": 60,
   "id": "1f883067-1ab4-4f69-a791-2dce7e829c28",
   "metadata": {
    "tags": []
   },
   "outputs": [
    {
     "data": {
      "text/html": [
       "<div>\n",
       "<style scoped>\n",
       "    .dataframe tbody tr th:only-of-type {\n",
       "        vertical-align: middle;\n",
       "    }\n",
       "\n",
       "    .dataframe tbody tr th {\n",
       "        vertical-align: top;\n",
       "    }\n",
       "\n",
       "    .dataframe thead th {\n",
       "        text-align: right;\n",
       "    }\n",
       "</style>\n",
       "<table border=\"1\" class=\"dataframe\">\n",
       "  <thead>\n",
       "    <tr style=\"text-align: right;\">\n",
       "      <th></th>\n",
       "      <th>model</th>\n",
       "      <th>rmse</th>\n",
       "      <th>r2</th>\n",
       "    </tr>\n",
       "  </thead>\n",
       "  <tbody>\n",
       "    <tr>\n",
       "      <th>0</th>\n",
       "      <td>baseline</td>\n",
       "      <td>775618.398206</td>\n",
       "      <td>-0.148645</td>\n",
       "    </tr>\n",
       "    <tr>\n",
       "      <th>1</th>\n",
       "      <td>ols_rfe_1</td>\n",
       "      <td>171760.378908</td>\n",
       "      <td>0.943671</td>\n",
       "    </tr>\n",
       "    <tr>\n",
       "      <th>2</th>\n",
       "      <td>Multiple Regression - All Features</td>\n",
       "      <td>170903.298069</td>\n",
       "      <td>0.944231</td>\n",
       "    </tr>\n",
       "    <tr>\n",
       "      <th>3</th>\n",
       "      <td>lasso</td>\n",
       "      <td>170904.187141</td>\n",
       "      <td>0.944231</td>\n",
       "    </tr>\n",
       "    <tr>\n",
       "      <th>4</th>\n",
       "      <td>quad_reg</td>\n",
       "      <td>153872.614327</td>\n",
       "      <td>0.954792</td>\n",
       "    </tr>\n",
       "  </tbody>\n",
       "</table>\n",
       "</div>"
      ],
      "text/plain": [
       "                                model           rmse        r2\n",
       "0                            baseline  775618.398206 -0.148645\n",
       "1                           ols_rfe_1  171760.378908  0.943671\n",
       "2  Multiple Regression - All Features  170903.298069  0.944231\n",
       "3                               lasso  170904.187141  0.944231\n",
       "4                            quad_reg  153872.614327  0.954792"
      ]
     },
     "execution_count": 60,
     "metadata": {},
     "output_type": "execute_result"
    }
   ],
   "source": [
    "eval_df"
   ]
  },
  {
   "cell_type": "markdown",
   "id": "f910718d-5723-4ff0-90aa-d04cb53a8027",
   "metadata": {},
   "source": [
    "<h3>------------------------------Generalized Linear Model (GLM)------------------------------<h3/>"
   ]
  },
  {
   "cell_type": "code",
   "execution_count": 61,
   "id": "2dac17d3-524f-42a3-9295-5a14a12ffabc",
   "metadata": {
    "tags": []
   },
   "outputs": [],
   "source": [
    "from sklearn.linear_model import TweedieRegressor"
   ]
  },
  {
   "cell_type": "code",
   "execution_count": 62,
   "id": "d5959054-a395-4dff-a611-cbfc225b1cf7",
   "metadata": {
    "tags": []
   },
   "outputs": [
    {
     "data": {
      "text/html": [
       "<style>#sk-container-id-5 {color: black;}#sk-container-id-5 pre{padding: 0;}#sk-container-id-5 div.sk-toggleable {background-color: white;}#sk-container-id-5 label.sk-toggleable__label {cursor: pointer;display: block;width: 100%;margin-bottom: 0;padding: 0.3em;box-sizing: border-box;text-align: center;}#sk-container-id-5 label.sk-toggleable__label-arrow:before {content: \"▸\";float: left;margin-right: 0.25em;color: #696969;}#sk-container-id-5 label.sk-toggleable__label-arrow:hover:before {color: black;}#sk-container-id-5 div.sk-estimator:hover label.sk-toggleable__label-arrow:before {color: black;}#sk-container-id-5 div.sk-toggleable__content {max-height: 0;max-width: 0;overflow: hidden;text-align: left;background-color: #f0f8ff;}#sk-container-id-5 div.sk-toggleable__content pre {margin: 0.2em;color: black;border-radius: 0.25em;background-color: #f0f8ff;}#sk-container-id-5 input.sk-toggleable__control:checked~div.sk-toggleable__content {max-height: 200px;max-width: 100%;overflow: auto;}#sk-container-id-5 input.sk-toggleable__control:checked~label.sk-toggleable__label-arrow:before {content: \"▾\";}#sk-container-id-5 div.sk-estimator input.sk-toggleable__control:checked~label.sk-toggleable__label {background-color: #d4ebff;}#sk-container-id-5 div.sk-label input.sk-toggleable__control:checked~label.sk-toggleable__label {background-color: #d4ebff;}#sk-container-id-5 input.sk-hidden--visually {border: 0;clip: rect(1px 1px 1px 1px);clip: rect(1px, 1px, 1px, 1px);height: 1px;margin: -1px;overflow: hidden;padding: 0;position: absolute;width: 1px;}#sk-container-id-5 div.sk-estimator {font-family: monospace;background-color: #f0f8ff;border: 1px dotted black;border-radius: 0.25em;box-sizing: border-box;margin-bottom: 0.5em;}#sk-container-id-5 div.sk-estimator:hover {background-color: #d4ebff;}#sk-container-id-5 div.sk-parallel-item::after {content: \"\";width: 100%;border-bottom: 1px solid gray;flex-grow: 1;}#sk-container-id-5 div.sk-label:hover label.sk-toggleable__label {background-color: #d4ebff;}#sk-container-id-5 div.sk-serial::before {content: \"\";position: absolute;border-left: 1px solid gray;box-sizing: border-box;top: 0;bottom: 0;left: 50%;z-index: 0;}#sk-container-id-5 div.sk-serial {display: flex;flex-direction: column;align-items: center;background-color: white;padding-right: 0.2em;padding-left: 0.2em;position: relative;}#sk-container-id-5 div.sk-item {position: relative;z-index: 1;}#sk-container-id-5 div.sk-parallel {display: flex;align-items: stretch;justify-content: center;background-color: white;position: relative;}#sk-container-id-5 div.sk-item::before, #sk-container-id-5 div.sk-parallel-item::before {content: \"\";position: absolute;border-left: 1px solid gray;box-sizing: border-box;top: 0;bottom: 0;left: 50%;z-index: -1;}#sk-container-id-5 div.sk-parallel-item {display: flex;flex-direction: column;z-index: 1;position: relative;background-color: white;}#sk-container-id-5 div.sk-parallel-item:first-child::after {align-self: flex-end;width: 50%;}#sk-container-id-5 div.sk-parallel-item:last-child::after {align-self: flex-start;width: 50%;}#sk-container-id-5 div.sk-parallel-item:only-child::after {width: 0;}#sk-container-id-5 div.sk-dashed-wrapped {border: 1px dashed gray;margin: 0 0.4em 0.5em 0.4em;box-sizing: border-box;padding-bottom: 0.4em;background-color: white;}#sk-container-id-5 div.sk-label label {font-family: monospace;font-weight: bold;display: inline-block;line-height: 1.2em;}#sk-container-id-5 div.sk-label-container {text-align: center;}#sk-container-id-5 div.sk-container {/* jupyter's `normalize.less` sets `[hidden] { display: none; }` but bootstrap.min.css set `[hidden] { display: none !important; }` so we also need the `!important` here to be able to override the default hidden behavior on the sphinx rendered scikit-learn.org. See: https://github.com/scikit-learn/scikit-learn/issues/21755 */display: inline-block !important;position: relative;}#sk-container-id-5 div.sk-text-repr-fallback {display: none;}</style><div id=\"sk-container-id-5\" class=\"sk-top-container\"><div class=\"sk-text-repr-fallback\"><pre>TweedieRegressor(power=0)</pre><b>In a Jupyter environment, please rerun this cell to show the HTML representation or trust the notebook. <br />On GitHub, the HTML representation is unable to render, please try loading this page with nbviewer.org.</b></div><div class=\"sk-container\" hidden><div class=\"sk-item\"><div class=\"sk-estimator sk-toggleable\"><input class=\"sk-toggleable__control sk-hidden--visually\" id=\"sk-estimator-id-5\" type=\"checkbox\" checked><label for=\"sk-estimator-id-5\" class=\"sk-toggleable__label sk-toggleable__label-arrow\">TweedieRegressor</label><div class=\"sk-toggleable__content\"><pre>TweedieRegressor(power=0)</pre></div></div></div></div></div>"
      ],
      "text/plain": [
       "TweedieRegressor(power=0)"
      ]
     },
     "execution_count": 62,
     "metadata": {},
     "output_type": "execute_result"
    }
   ],
   "source": [
    "# Make the thing\n",
    "gams = TweedieRegressor(power = 0)\n",
    "# Fit the thing\n",
    "gams.fit(X, y)"
   ]
  },
  {
   "cell_type": "code",
   "execution_count": 63,
   "id": "12084310-0e6c-4c1c-a781-e7856920b559",
   "metadata": {
    "tags": []
   },
   "outputs": [],
   "source": [
    "#Use the thing\n",
    "rmse, r_2 = evaluate_reg(y, gams.predict(X))\n",
    "\n",
    "eval_df = pd.concat([eval_df, pd.DataFrame(\n",
    "[\n",
    "    {\n",
    "        'model': 'gamma_ols',\n",
    "        'rmse': rmse,\n",
    "        'r2': r_2\n",
    "    }\n",
    "])], ignore_index = True, axis=0)"
   ]
  },
  {
   "cell_type": "code",
   "execution_count": 64,
   "id": "d515c1f3-0586-49ab-9981-5a210ea306db",
   "metadata": {
    "tags": []
   },
   "outputs": [],
   "source": [
    "val_rmse, val_r2 = evaluate_reg(y_val, gams.predict(X_val))\n",
    "\n",
    "val_dict = {\n",
    "    'model': 'gamma_ols',\n",
    "    'val_rmse': val_rmse,\n",
    "    'val_r2': val_r2\n",
    "}"
   ]
  },
  {
   "cell_type": "code",
   "execution_count": 65,
   "id": "9c9b9192-4a15-442e-9305-82d1cd2f0e08",
   "metadata": {
    "tags": []
   },
   "outputs": [],
   "source": [
    "val_scores.append(val_dict)"
   ]
  },
  {
   "cell_type": "code",
   "execution_count": 66,
   "id": "1d5382be-c6fb-4241-ad56-14ef71aa96fa",
   "metadata": {
    "tags": []
   },
   "outputs": [
    {
     "data": {
      "text/html": [
       "<div>\n",
       "<style scoped>\n",
       "    .dataframe tbody tr th:only-of-type {\n",
       "        vertical-align: middle;\n",
       "    }\n",
       "\n",
       "    .dataframe tbody tr th {\n",
       "        vertical-align: top;\n",
       "    }\n",
       "\n",
       "    .dataframe thead th {\n",
       "        text-align: right;\n",
       "    }\n",
       "</style>\n",
       "<table border=\"1\" class=\"dataframe\">\n",
       "  <thead>\n",
       "    <tr style=\"text-align: right;\">\n",
       "      <th></th>\n",
       "      <th>model</th>\n",
       "      <th>rmse</th>\n",
       "      <th>r2</th>\n",
       "    </tr>\n",
       "  </thead>\n",
       "  <tbody>\n",
       "    <tr>\n",
       "      <th>0</th>\n",
       "      <td>baseline</td>\n",
       "      <td>775618.398206</td>\n",
       "      <td>-0.148645</td>\n",
       "    </tr>\n",
       "    <tr>\n",
       "      <th>1</th>\n",
       "      <td>ols_rfe_1</td>\n",
       "      <td>171760.378908</td>\n",
       "      <td>0.943671</td>\n",
       "    </tr>\n",
       "    <tr>\n",
       "      <th>2</th>\n",
       "      <td>Multiple Regression - All Features</td>\n",
       "      <td>170903.298069</td>\n",
       "      <td>0.944231</td>\n",
       "    </tr>\n",
       "    <tr>\n",
       "      <th>3</th>\n",
       "      <td>lasso</td>\n",
       "      <td>170904.187141</td>\n",
       "      <td>0.944231</td>\n",
       "    </tr>\n",
       "    <tr>\n",
       "      <th>4</th>\n",
       "      <td>quad_reg</td>\n",
       "      <td>153872.614327</td>\n",
       "      <td>0.954792</td>\n",
       "    </tr>\n",
       "    <tr>\n",
       "      <th>5</th>\n",
       "      <td>gamma_ols</td>\n",
       "      <td>716940.237138</td>\n",
       "      <td>0.018578</td>\n",
       "    </tr>\n",
       "  </tbody>\n",
       "</table>\n",
       "</div>"
      ],
      "text/plain": [
       "                                model           rmse        r2\n",
       "0                            baseline  775618.398206 -0.148645\n",
       "1                           ols_rfe_1  171760.378908  0.943671\n",
       "2  Multiple Regression - All Features  170903.298069  0.944231\n",
       "3                               lasso  170904.187141  0.944231\n",
       "4                            quad_reg  153872.614327  0.954792\n",
       "5                           gamma_ols  716940.237138  0.018578"
      ]
     },
     "execution_count": 66,
     "metadata": {},
     "output_type": "execute_result"
    }
   ],
   "source": [
    "eval_df"
   ]
  },
  {
   "cell_type": "markdown",
   "id": "a4584c96-866f-48e0-ba34-a899d5fae2f8",
   "metadata": {},
   "source": [
    "<h1>Evaluate the final model on the Test data<h1/>"
   ]
  },
  {
   "cell_type": "code",
   "execution_count": 67,
   "id": "102080c2-c161-44d5-b8f7-698d59297090",
   "metadata": {},
   "outputs": [],
   "source": [
    "# The model I selected was quad_reg 'Polynomial Regression'"
   ]
  },
  {
   "cell_type": "code",
   "execution_count": 68,
   "id": "3da8e3c6-8d93-4e10-9635-f457db64d9d7",
   "metadata": {
    "tags": []
   },
   "outputs": [],
   "source": [
    "test_rmse, test_r2 = evaluate_reg(y_test, plyreg.predict(x_test_sq))\n",
    "test_dict = {\n",
    "    'model': 'quad_reg_test',\n",
    "    'rmse': test_rmse,\n",
    "    'r2': test_r2\n",
    "}"
   ]
  },
  {
   "cell_type": "code",
   "execution_count": 69,
   "id": "768addaf-3e55-4bae-b4ac-67538c51d189",
   "metadata": {
    "tags": []
   },
   "outputs": [],
   "source": [
    "val_scores.append(test_dict)"
   ]
  },
  {
   "cell_type": "code",
   "execution_count": 70,
   "id": "930940e1-62e3-444f-b1c8-1a00e4c41436",
   "metadata": {
    "tags": []
   },
   "outputs": [
    {
     "data": {
      "text/html": [
       "<div>\n",
       "<style scoped>\n",
       "    .dataframe tbody tr th:only-of-type {\n",
       "        vertical-align: middle;\n",
       "    }\n",
       "\n",
       "    .dataframe tbody tr th {\n",
       "        vertical-align: top;\n",
       "    }\n",
       "\n",
       "    .dataframe thead th {\n",
       "        text-align: right;\n",
       "    }\n",
       "</style>\n",
       "<table border=\"1\" class=\"dataframe\">\n",
       "  <thead>\n",
       "    <tr style=\"text-align: right;\">\n",
       "      <th></th>\n",
       "      <th>model</th>\n",
       "      <th>rmse</th>\n",
       "      <th>r2</th>\n",
       "    </tr>\n",
       "  </thead>\n",
       "  <tbody>\n",
       "    <tr>\n",
       "      <th>0</th>\n",
       "      <td>baseline</td>\n",
       "      <td>775618.398206</td>\n",
       "      <td>-0.148645</td>\n",
       "    </tr>\n",
       "    <tr>\n",
       "      <th>1</th>\n",
       "      <td>ols_rfe_1</td>\n",
       "      <td>171760.378908</td>\n",
       "      <td>0.943671</td>\n",
       "    </tr>\n",
       "    <tr>\n",
       "      <th>2</th>\n",
       "      <td>Multiple Regression - All Features</td>\n",
       "      <td>170903.298069</td>\n",
       "      <td>0.944231</td>\n",
       "    </tr>\n",
       "    <tr>\n",
       "      <th>3</th>\n",
       "      <td>lasso</td>\n",
       "      <td>170904.187141</td>\n",
       "      <td>0.944231</td>\n",
       "    </tr>\n",
       "    <tr>\n",
       "      <th>4</th>\n",
       "      <td>quad_reg</td>\n",
       "      <td>153872.614327</td>\n",
       "      <td>0.954792</td>\n",
       "    </tr>\n",
       "    <tr>\n",
       "      <th>5</th>\n",
       "      <td>gamma_ols</td>\n",
       "      <td>716940.237138</td>\n",
       "      <td>0.018578</td>\n",
       "    </tr>\n",
       "  </tbody>\n",
       "</table>\n",
       "</div>"
      ],
      "text/plain": [
       "                                model           rmse        r2\n",
       "0                            baseline  775618.398206 -0.148645\n",
       "1                           ols_rfe_1  171760.378908  0.943671\n",
       "2  Multiple Regression - All Features  170903.298069  0.944231\n",
       "3                               lasso  170904.187141  0.944231\n",
       "4                            quad_reg  153872.614327  0.954792\n",
       "5                           gamma_ols  716940.237138  0.018578"
      ]
     },
     "execution_count": 70,
     "metadata": {},
     "output_type": "execute_result"
    }
   ],
   "source": [
    "eval_df"
   ]
  },
  {
   "cell_type": "code",
   "execution_count": 71,
   "id": "83e55bb1-2c82-4eac-b45e-d0ed5e43d6ca",
   "metadata": {
    "tags": []
   },
   "outputs": [
    {
     "data": {
      "text/plain": [
       "{'model': 'quad_reg_test',\n",
       " 'rmse': 124374.57473611497,\n",
       " 'r2': 0.9750176516849914}"
      ]
     },
     "execution_count": 71,
     "metadata": {},
     "output_type": "execute_result"
    }
   ],
   "source": [
    "test_dict"
   ]
  },
  {
   "cell_type": "code",
   "execution_count": null,
   "id": "27901419-1316-4d41-9209-df08e9546e7d",
   "metadata": {
    "tags": []
   },
   "outputs": [],
   "source": []
  },
  {
   "cell_type": "code",
   "execution_count": null,
   "id": "8840d29d-cd06-4c29-8c92-49e2ea9819d6",
   "metadata": {},
   "outputs": [],
   "source": []
  }
 ],
 "metadata": {
  "kernelspec": {
   "display_name": "Python 3 (ipykernel)",
   "language": "python",
   "name": "python3"
  },
  "language_info": {
   "codemirror_mode": {
    "name": "ipython",
    "version": 3
   },
   "file_extension": ".py",
   "mimetype": "text/x-python",
   "name": "python",
   "nbconvert_exporter": "python",
   "pygments_lexer": "ipython3",
   "version": "3.11.4"
  }
 },
 "nbformat": 4,
 "nbformat_minor": 5
}
