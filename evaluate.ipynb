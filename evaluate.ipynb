{
 "cells": [
  {
   "cell_type": "code",
   "execution_count": 4,
   "id": "04aff37e-fccf-48db-bb5a-be7fe49802b9",
   "metadata": {
    "tags": []
   },
   "outputs": [],
   "source": [
    "import pandas as pd\n",
    "from sklearn.model_selection import train_test_split\n",
    "import os\n",
    "import env\n",
    "from sklearn.preprocessing import MinMaxScaler\n",
    "from scipy import stats\n",
    "\n",
    "import pandas as pd\n",
    "import numpy as np\n",
    "import matplotlib.pyplot as plt\n",
    "import os\n",
    "import seaborn as sns\n",
    "from scipy import stats\n",
    "\n",
    "from math import sqrt\n",
    "\n",
    "# import splitting and imputing functions\n",
    "from sklearn.model_selection import train_test_split\n",
    "from sklearn.impute import SimpleImputer\n",
    "\n",
    "# turn off pink boxes for demo\n",
    "import warnings\n",
    "warnings.filterwarnings(\"ignore\")\n",
    "\n",
    "# imports for modeling:\n",
    "# import Logistic regression\n",
    "from sklearn.linear_model import LogisticRegression\n",
    "# import K Nearest neighbors:\n",
    "from sklearn.neighbors import KNeighborsClassifier\n",
    "# import Decision Trees:\n",
    "from sklearn.tree import DecisionTreeClassifier, export_text, plot_tree\n",
    "# import Random Forest:\n",
    "from sklearn.ensemble import RandomForestClassifier\n",
    "\n",
    "from sklearn.metrics import classification_report, confusion_matrix\n",
    "\n",
    "# interpreting our models:\n",
    "import matplotlib.pyplot as plt\n",
    "from sklearn.metrics import accuracy_score, confusion_matrix, classification_report"
   ]
  },
  {
   "cell_type": "markdown",
   "id": "1889b6a9-0faf-408b-9789-411c647c9c00",
   "metadata": {
    "tags": []
   },
   "source": [
    "<h2>Load your zillow dataset.<h2/>"
   ]
  },
  {
   "cell_type": "code",
   "execution_count": 5,
   "id": "2b335f95-c3bc-454d-ae03-ce35a8d25390",
   "metadata": {
    "tags": []
   },
   "outputs": [
    {
     "data": {
      "text/html": [
       "<div>\n",
       "<style scoped>\n",
       "    .dataframe tbody tr th:only-of-type {\n",
       "        vertical-align: middle;\n",
       "    }\n",
       "\n",
       "    .dataframe tbody tr th {\n",
       "        vertical-align: top;\n",
       "    }\n",
       "\n",
       "    .dataframe thead th {\n",
       "        text-align: right;\n",
       "    }\n",
       "</style>\n",
       "<table border=\"1\" class=\"dataframe\">\n",
       "  <thead>\n",
       "    <tr style=\"text-align: right;\">\n",
       "      <th></th>\n",
       "      <th>Bedroom_Count</th>\n",
       "      <th>Bathroom_Count</th>\n",
       "      <th>Finished_sqft</th>\n",
       "      <th>Tax_value_dollars</th>\n",
       "      <th>Year_built</th>\n",
       "      <th>Tax_amount</th>\n",
       "      <th>fips</th>\n",
       "    </tr>\n",
       "  </thead>\n",
       "  <tbody>\n",
       "    <tr>\n",
       "      <th>2</th>\n",
       "      <td>0</td>\n",
       "      <td>0.0</td>\n",
       "      <td>73026.0</td>\n",
       "      <td>1434941.0</td>\n",
       "      <td>1959</td>\n",
       "      <td>20800.37</td>\n",
       "      <td>6037.0</td>\n",
       "    </tr>\n",
       "    <tr>\n",
       "      <th>3</th>\n",
       "      <td>0</td>\n",
       "      <td>0.0</td>\n",
       "      <td>5068.0</td>\n",
       "      <td>1174475.0</td>\n",
       "      <td>1948</td>\n",
       "      <td>14557.57</td>\n",
       "      <td>6037.0</td>\n",
       "    </tr>\n",
       "    <tr>\n",
       "      <th>4</th>\n",
       "      <td>0</td>\n",
       "      <td>0.0</td>\n",
       "      <td>1776.0</td>\n",
       "      <td>440101.0</td>\n",
       "      <td>1947</td>\n",
       "      <td>5725.17</td>\n",
       "      <td>6037.0</td>\n",
       "    </tr>\n",
       "    <tr>\n",
       "      <th>5</th>\n",
       "      <td>0</td>\n",
       "      <td>0.0</td>\n",
       "      <td>2400.0</td>\n",
       "      <td>287634.0</td>\n",
       "      <td>1943</td>\n",
       "      <td>3661.28</td>\n",
       "      <td>6037.0</td>\n",
       "    </tr>\n",
       "    <tr>\n",
       "      <th>7</th>\n",
       "      <td>0</td>\n",
       "      <td>0.0</td>\n",
       "      <td>3611.0</td>\n",
       "      <td>698984.0</td>\n",
       "      <td>1946</td>\n",
       "      <td>7857.84</td>\n",
       "      <td>6037.0</td>\n",
       "    </tr>\n",
       "  </tbody>\n",
       "</table>\n",
       "</div>"
      ],
      "text/plain": [
       "   Bedroom_Count  Bathroom_Count  Finished_sqft  Tax_value_dollars  \\\n",
       "2              0             0.0        73026.0          1434941.0   \n",
       "3              0             0.0         5068.0          1174475.0   \n",
       "4              0             0.0         1776.0           440101.0   \n",
       "5              0             0.0         2400.0           287634.0   \n",
       "7              0             0.0         3611.0           698984.0   \n",
       "\n",
       "   Year_built  Tax_amount    fips  \n",
       "2        1959    20800.37  6037.0  \n",
       "3        1948    14557.57  6037.0  \n",
       "4        1947     5725.17  6037.0  \n",
       "5        1943     3661.28  6037.0  \n",
       "7        1946     7857.84  6037.0  "
      ]
     },
     "execution_count": 5,
     "metadata": {},
     "output_type": "execute_result"
    }
   ],
   "source": [
    "from wrangle import wrangle_zillow\n",
    "df = wrangle_zillow()\n",
    "df.head() "
   ]
  },
  {
   "cell_type": "code",
   "execution_count": 59,
   "id": "ecd2714f-7684-42a4-944d-6aeb7756cad7",
   "metadata": {
    "tags": []
   },
   "outputs": [
    {
     "data": {
      "text/html": [
       "<div>\n",
       "<style scoped>\n",
       "    .dataframe tbody tr th:only-of-type {\n",
       "        vertical-align: middle;\n",
       "    }\n",
       "\n",
       "    .dataframe tbody tr th {\n",
       "        vertical-align: top;\n",
       "    }\n",
       "\n",
       "    .dataframe thead th {\n",
       "        text-align: right;\n",
       "    }\n",
       "</style>\n",
       "<table border=\"1\" class=\"dataframe\">\n",
       "  <thead>\n",
       "    <tr style=\"text-align: right;\">\n",
       "      <th></th>\n",
       "      <th>Bedroom_Count</th>\n",
       "      <th>Bathroom_Count</th>\n",
       "      <th>Finished_sqft</th>\n",
       "      <th>Tax_value_dollars</th>\n",
       "      <th>Year_built</th>\n",
       "      <th>Tax_amount</th>\n",
       "      <th>fips</th>\n",
       "    </tr>\n",
       "  </thead>\n",
       "  <tbody>\n",
       "    <tr>\n",
       "      <th>515265</th>\n",
       "      <td>3</td>\n",
       "      <td>2.0</td>\n",
       "      <td>1388.0</td>\n",
       "      <td>347987.0</td>\n",
       "      <td>1955</td>\n",
       "      <td>4073.83</td>\n",
       "      <td>6037.0</td>\n",
       "    </tr>\n",
       "    <tr>\n",
       "      <th>2834387</th>\n",
       "      <td>5</td>\n",
       "      <td>3.0</td>\n",
       "      <td>2425.0</td>\n",
       "      <td>705314.0</td>\n",
       "      <td>1975</td>\n",
       "      <td>8140.72</td>\n",
       "      <td>6111.0</td>\n",
       "    </tr>\n",
       "    <tr>\n",
       "      <th>282747</th>\n",
       "      <td>1</td>\n",
       "      <td>1.0</td>\n",
       "      <td>1100.0</td>\n",
       "      <td>389612.0</td>\n",
       "      <td>2005</td>\n",
       "      <td>5095.62</td>\n",
       "      <td>6037.0</td>\n",
       "    </tr>\n",
       "    <tr>\n",
       "      <th>1087577</th>\n",
       "      <td>2</td>\n",
       "      <td>2.0</td>\n",
       "      <td>1215.0</td>\n",
       "      <td>367965.0</td>\n",
       "      <td>2002</td>\n",
       "      <td>4497.36</td>\n",
       "      <td>6037.0</td>\n",
       "    </tr>\n",
       "    <tr>\n",
       "      <th>1663081</th>\n",
       "      <td>4</td>\n",
       "      <td>2.0</td>\n",
       "      <td>1705.0</td>\n",
       "      <td>333600.0</td>\n",
       "      <td>1950</td>\n",
       "      <td>4731.08</td>\n",
       "      <td>6037.0</td>\n",
       "    </tr>\n",
       "  </tbody>\n",
       "</table>\n",
       "</div>"
      ],
      "text/plain": [
       "         Bedroom_Count  Bathroom_Count  Finished_sqft  Tax_value_dollars  \\\n",
       "515265               3             2.0         1388.0           347987.0   \n",
       "2834387              5             3.0         2425.0           705314.0   \n",
       "282747               1             1.0         1100.0           389612.0   \n",
       "1087577              2             2.0         1215.0           367965.0   \n",
       "1663081              4             2.0         1705.0           333600.0   \n",
       "\n",
       "         Year_built  Tax_amount    fips  \n",
       "515265         1955     4073.83  6037.0  \n",
       "2834387        1975     8140.72  6111.0  \n",
       "282747         2005     5095.62  6037.0  \n",
       "1087577        2002     4497.36  6037.0  \n",
       "1663081        1950     4731.08  6037.0  "
      ]
     },
     "execution_count": 59,
     "metadata": {},
     "output_type": "execute_result"
    }
   ],
   "source": [
    "from wrangle import split_zillow_data\n",
    "train, validate, test = split_zillow_data(df)\n",
    "train.head()"
   ]
  },
  {
   "cell_type": "markdown",
   "id": "42f2f148-4400-4697-993a-2f6bab123d3b",
   "metadata": {},
   "source": [
    "<h2>Fit a linear regression model (ordinary least squares) and compute yhat, predictions of taxvaluedollarcnt using only calculatedfinishedsqft.<h2/>\n",
    "\n"
   ]
  },
  {
   "cell_type": "code",
   "execution_count": null,
   "id": "8dff29a9-4fa5-4bb3-9784-fa04cf1606b8",
   "metadata": {
    "tags": []
   },
   "outputs": [],
   "source": []
  },
  {
   "cell_type": "code",
   "execution_count": 72,
   "id": "3e4ec785-25b4-4dba-a220-08f744dc5e10",
   "metadata": {
    "tags": []
   },
   "outputs": [],
   "source": [
    "# X -> set of all ind features\n",
    "#y -> dependent variable, target\n",
    "X = train[['Finished_sqft']]\n",
    "y = train['Tax_value_dollars']"
   ]
  },
  {
   "cell_type": "code",
   "execution_count": 73,
   "id": "7d3339ea-7fb9-47a5-bc9b-f8ee7293d1d2",
   "metadata": {
    "tags": []
   },
   "outputs": [],
   "source": [
    "#Time to make, fit, & use the regression model using Ordinary Least Squares Linear Regression (OLS) method\n",
    "from sklearn.linear_model import LinearRegression\n",
    "\n",
    "#make\n",
    "lm = LinearRegression()\n",
    "#fit\n",
    "lm.fit(X,y)\n",
    "#use\n",
    "yhat = lm.predict(X)"
   ]
  },
  {
   "cell_type": "code",
   "execution_count": 74,
   "id": "be6eaa46-41e0-4cce-94ee-ecaf735e6551",
   "metadata": {
    "tags": []
   },
   "outputs": [
    {
     "data": {
      "text/plain": [
       "array([343911.13502213, 577329.61135969, 279085.17438065, 304970.54060902,\n",
       "       415264.70975599])"
      ]
     },
     "execution_count": 74,
     "metadata": {},
     "output_type": "execute_result"
    }
   ],
   "source": [
    "yhat[:5]"
   ]
  },
  {
   "cell_type": "markdown",
   "id": "96a61775-85b6-4146-afff-510889849c0e",
   "metadata": {},
   "source": [
    "x: Finished_sqft\\\n",
    "y: Tax_value_dollars\\\n",
    "baseline: Tax_value_dollars baseline prediction\\\n",
    "yhat: Tax_value_dollars OLS prediction"
   ]
  },
  {
   "cell_type": "code",
   "execution_count": 75,
   "id": "3c96b9e2-ebc7-45d7-840f-52b240be8ce8",
   "metadata": {
    "tags": []
   },
   "outputs": [],
   "source": [
    "from sklearn.metrics import mean_squared_error, r2_score"
   ]
  },
  {
   "cell_type": "code",
   "execution_count": 69,
   "id": "0a2c0c48-4fec-4ce4-a9d1-127565232d1d",
   "metadata": {
    "tags": []
   },
   "outputs": [],
   "source": [
    "# establish a best baseline\n",
    "# two options:\n",
    "# mean or median\n",
    "# \"best\" as with our models is contingent on which one reduces error the most"
   ]
  },
  {
   "cell_type": "code",
   "execution_count": 76,
   "id": "998eae7d-d3d4-4fef-94ba-6082b8807f84",
   "metadata": {
    "tags": []
   },
   "outputs": [],
   "source": [
    "baseline_med = y.median()\n",
    "baseline_mean = y.mean()"
   ]
  },
  {
   "cell_type": "code",
   "execution_count": 77,
   "id": "8dabe51f-756d-4f68-8202-715f1c25644a",
   "metadata": {
    "tags": []
   },
   "outputs": [],
   "source": [
    "y_pred = pd.DataFrame(\n",
    "    {\n",
    "    'y_act': y.values,\n",
    "    'yhat' : yhat,\n",
    "    'baseline_med': baseline_med,\n",
    "    'baseline_mean': baseline_mean\n",
    "    }, index=train.index)"
   ]
  },
  {
   "cell_type": "code",
   "execution_count": 78,
   "id": "b5865590-a1f8-4088-a5cf-48d820c9e428",
   "metadata": {
    "tags": []
   },
   "outputs": [],
   "source": [
    "# compute the error on these two baselines:\n",
    "mean_baseline_rmse = mean_squared_error(y_pred.baseline_mean, y) ** (1/2)\n",
    "med_baseline_rmse = mean_squared_error(y_pred.baseline_med, y) ** (1/2)"
   ]
  },
  {
   "cell_type": "code",
   "execution_count": 79,
   "id": "af8e7f07-e074-4265-b038-a5f439bcdd9c",
   "metadata": {
    "tags": []
   },
   "outputs": [
    {
     "data": {
      "text/plain": [
       "True"
      ]
     },
     "execution_count": 79,
     "metadata": {},
     "output_type": "execute_result"
    }
   ],
   "source": [
    "mean_baseline_rmse < med_baseline_rmse"
   ]
  },
  {
   "cell_type": "code",
   "execution_count": 80,
   "id": "e22cbf96-5cec-4944-adfd-f1f446901c7d",
   "metadata": {
    "tags": []
   },
   "outputs": [
    {
     "name": "stdout",
     "output_type": "stream",
     "text": [
      "Root mean squared error for the mean value of home price is $723694.238.\n"
     ]
    }
   ],
   "source": [
    "#  mean providees our best baseline,\n",
    "print(f'Root mean squared error for the mean value of home price is ${round(mean_baseline_rmse, 3)}.')"
   ]
  },
  {
   "cell_type": "markdown",
   "id": "c3e06257-95b5-4c70-be64-3e3ed319106d",
   "metadata": {},
   "source": [
    "<h2>Plot the residuals for the linear regression model that you made.<h2/>\n",
    "\n"
   ]
  },
  {
   "cell_type": "code",
   "execution_count": 81,
   "id": "4b02eef3-cfe8-417d-bb31-91b686ad99cd",
   "metadata": {
    "tags": []
   },
   "outputs": [
    {
     "data": {
      "image/png": "[encoded data removed]",
      "text/plain": [
       "<Figure size 2000x2000 with 1 Axes>"
      ]
     },
     "metadata": {},
     "output_type": "display_data"
    }
   ],
   "source": [
    "# plot residuals the first way\n",
    "plt.figure(figsize=(20,20))\n",
    "plt.scatter(y, yhat)\n",
    "# x=x is y=y here, the cases where the vert axis matches the horiz axis\n",
    "plt.plot(y,y, ls=':')\n",
    "plt.title('Predicted Home Price as Actual Home Price Increases')\n",
    "plt.show()"
   ]
  },
  {
   "cell_type": "code",
   "execution_count": 82,
   "id": "f80bf4e8-a0e3-4326-9644-e1e4b37c98ae",
   "metadata": {
    "tags": []
   },
   "outputs": [
    {
     "data": {
      "image/png": "[encoded data removed]",
      "text/plain": [
       "<Figure size 1500x1500 with 1 Axes>"
      ]
     },
     "metadata": {},
     "output_type": "display_data"
    }
   ],
   "source": [
    "# plot them the other way\n",
    "plt.figure(figsize=(15,15))\n",
    "plt.scatter(y, (y-yhat))\n",
    "plt.axhline(0,ls=':')\n",
    "plt.title('Residuals as Home Price Increases')\n",
    "plt.xlabel('Home Price In USD')\n",
    "plt.ylabel('Residual')\n",
    "plt.show()"
   ]
  },
  {
   "cell_type": "code",
   "execution_count": null,
   "id": "787dda90-d011-4d56-a197-3dc2815313a2",
   "metadata": {},
   "outputs": [],
   "source": []
  },
  {
   "cell_type": "markdown",
   "id": "fc09d055-2bed-4afa-9afb-568be664d3f2",
   "metadata": {},
   "source": [
    "<h2>Calculate the sum of squared errors, explained sum of squares, total sum of squares, mean squared error, and root mean squared error for your model.<h2/>\n",
    "\n"
   ]
  },
  {
   "cell_type": "code",
   "execution_count": 83,
   "id": "3c4e937d-48a5-4be1-982a-7e5213b31023",
   "metadata": {
    "tags": []
   },
   "outputs": [],
   "source": [
    "# Squared Errors, \n",
    "# residuals squared\n",
    "squared_errors = (y_pred['y_act'] - y_pred['yhat']) ** 2\n",
    "# Sum of Squared Error, \n",
    "sse = squared_errors.sum()\n",
    "# Mean Squared error, \n",
    "mse = sse / train.shape[0] #alternatively, len(train), y_pred.shape[0]\n",
    "# Root mean Squared Error\n",
    "# square root the mean squared error!\n",
    "rmse = mse**0.5"
   ]
  },
  {
   "cell_type": "code",
   "execution_count": 86,
   "id": "d32d2356-fbcc-4e03-a7b2-7f4733d9a263",
   "metadata": {
    "tags": []
   },
   "outputs": [
    {
     "data": {
      "text/plain": [
       "515265     1.661268e+07\n",
       "2834387    1.638000e+10\n",
       "282747     1.221618e+10\n",
       "1087577    3.968302e+09\n",
       "1663081    6.669125e+09\n",
       "               ...     \n",
       "1030898    8.753669e+09\n",
       "145337     1.050820e+11\n",
       "164743     2.801667e+10\n",
       "674418     2.872767e+10\n",
       "1042963    1.301047e+07\n",
       "Length: 1625073, dtype: float64"
      ]
     },
     "execution_count": 86,
     "metadata": {},
     "output_type": "execute_result"
    }
   ],
   "source": [
    "squared_errors"
   ]
  },
  {
   "cell_type": "code",
   "execution_count": 85,
   "id": "8a72d22a-fad8-4a93-bbbc-62c48b1979b1",
   "metadata": {
    "tags": []
   },
   "outputs": [
    {
     "data": {
      "text/plain": [
       "5.650244667254653e+17"
      ]
     },
     "execution_count": 85,
     "metadata": {},
     "output_type": "execute_result"
    }
   ],
   "source": [
    "sse"
   ]
  },
  {
   "cell_type": "code",
   "execution_count": 87,
   "id": "c955bf1a-43d2-430b-a280-bd2c0201bbe6",
   "metadata": {
    "tags": []
   },
   "outputs": [
    {
     "data": {
      "text/plain": [
       "347691744755.7527"
      ]
     },
     "execution_count": 87,
     "metadata": {},
     "output_type": "execute_result"
    }
   ],
   "source": [
    "mse"
   ]
  },
  {
   "cell_type": "code",
   "execution_count": 88,
   "id": "eaaa749a-4a60-4fd0-8d83-4787bab7fd73",
   "metadata": {
    "tags": []
   },
   "outputs": [
    {
     "data": {
      "text/plain": [
       "589653.9194779872"
      ]
     },
     "execution_count": 88,
     "metadata": {},
     "output_type": "execute_result"
    }
   ],
   "source": [
    "rmse"
   ]
  },
  {
   "cell_type": "markdown",
   "id": "fbf7e835-df5b-45ec-9aec-89c847136960",
   "metadata": {},
   "source": [
    "<h2>Calculate the sum of squared errors, mean squared error, and root mean squared error for the baseline model (i.e. a model that always predicts the average taxvaluedollarcnt amount).<h2/>\n",
    "\n"
   ]
  },
  {
   "cell_type": "code",
   "execution_count": 90,
   "id": "39f09eca-8b5c-4206-a0c8-dfafce74f5fd",
   "metadata": {
    "tags": []
   },
   "outputs": [
    {
     "data": {
      "text/plain": [
       "(5.650244667254653e+17, 8.511049264466789e+17)"
      ]
     },
     "execution_count": 90,
     "metadata": {},
     "output_type": "execute_result"
    }
   ],
   "source": [
    "# Squared Errors, \n",
    "# residuals squared\n",
    "squared_errors_bl = (y_pred['y_act'] - y_pred['baseline_mean']) ** 2\n",
    "# Sum of Squared Error, \n",
    "sse_bl = squared_errors_bl.sum()\n",
    "\n",
    "sse, sse_bl"
   ]
  },
  {
   "cell_type": "markdown",
   "id": "682179b2-340d-4324-9554-166da15463e3",
   "metadata": {},
   "source": [
    "<h2>Write python code that compares the sum of squared errors for your model against the sum of squared errors for the baseline model and outputs whether or not your model performs better than the baseline model.\n",
    "<h2/>\n"
   ]
  },
  {
   "cell_type": "code",
   "execution_count": 92,
   "id": "92545f7e-36f7-4564-a73d-4d6a9b556f4d",
   "metadata": {
    "tags": []
   },
   "outputs": [
    {
     "data": {
      "text/plain": [
       "True"
      ]
     },
     "execution_count": 92,
     "metadata": {},
     "output_type": "execute_result"
    }
   ],
   "source": [
    "sse_bl > sse"
   ]
  },
  {
   "cell_type": "markdown",
   "id": "59f86ee1-0512-4e72-8967-2ea017a954ac",
   "metadata": {},
   "source": [
    "<h2>What is the amount of variance explained in your model?\n",
    "<h2/>\n"
   ]
  },
  {
   "cell_type": "code",
   "execution_count": 94,
   "id": "c2731b9b-c698-4c2c-94bf-403865cde18f",
   "metadata": {
    "tags": []
   },
   "outputs": [],
   "source": [
    "# r^2 == ESS / TSS == ESS / (ESS + SSE)"
   ]
  },
  {
   "cell_type": "code",
   "execution_count": 96,
   "id": "9924a15b-161a-437f-8c30-d89dd2474460",
   "metadata": {
    "tags": []
   },
   "outputs": [],
   "source": [
    "# ESS = Δ(y_pred, y_mean)\n",
    "ESS = ((y_pred['yhat'] - y_pred['baseline_mean']) ** 2).sum()"
   ]
  },
  {
   "cell_type": "code",
   "execution_count": 97,
   "id": "6968c7ce-f15d-48a7-9efe-e1de2c5519e4",
   "metadata": {
    "tags": []
   },
   "outputs": [
    {
     "data": {
      "text/plain": [
       "2.86080459721962e+17"
      ]
     },
     "execution_count": 97,
     "metadata": {},
     "output_type": "execute_result"
    }
   ],
   "source": [
    "ESS"
   ]
  },
  {
   "cell_type": "code",
   "execution_count": 98,
   "id": "c3c663d6-33cf-4d2b-b923-3d8734ccf8d1",
   "metadata": {
    "tags": []
   },
   "outputs": [
    {
     "data": {
      "text/plain": [
       "5.650244667254653e+17"
      ]
     },
     "execution_count": 98,
     "metadata": {},
     "output_type": "execute_result"
    }
   ],
   "source": [
    "sse"
   ]
  },
  {
   "cell_type": "code",
   "execution_count": 99,
   "id": "d04a4071-0c32-49ca-b8d1-0b9bb55c75d4",
   "metadata": {
    "tags": []
   },
   "outputs": [
    {
     "data": {
      "text/plain": [
       "0.3361283090160014"
      ]
     },
     "execution_count": 99,
     "metadata": {},
     "output_type": "execute_result"
    }
   ],
   "source": [
    "ESS / (ESS + sse)"
   ]
  },
  {
   "cell_type": "code",
   "execution_count": 100,
   "id": "5431b5f7-a631-439d-9f82-11ee56034569",
   "metadata": {
    "tags": []
   },
   "outputs": [
    {
     "data": {
      "text/plain": [
       "0.3361283090154177"
      ]
     },
     "execution_count": 100,
     "metadata": {},
     "output_type": "execute_result"
    }
   ],
   "source": [
    "# actual r_squared score\n",
    "r2_score(y, y_pred['yhat'])"
   ]
  },
  {
   "cell_type": "markdown",
   "id": "af364544-05e1-49b9-83a1-b5258ea2d82b",
   "metadata": {},
   "source": [
    "<h2>Is your model better than the baseline model?\n",
    "<h2/>\n"
   ]
  },
  {
   "cell_type": "code",
   "execution_count": null,
   "id": "d32aafb1-97a8-436c-b78b-fcffa1f10672",
   "metadata": {},
   "outputs": [],
   "source": [
    "# lets compare the rmse of our model \n",
    "# to the rmse of our baseline"
   ]
  },
  {
   "cell_type": "code",
   "execution_count": 101,
   "id": "4bb2fdad-5a09-4973-a77e-df7eb833e90a",
   "metadata": {
    "tags": []
   },
   "outputs": [
    {
     "data": {
      "text/plain": [
       "True"
      ]
     },
     "execution_count": 101,
     "metadata": {},
     "output_type": "execute_result"
    }
   ],
   "source": [
    "mean_baseline_rmse > mean_squared_error(y, y_pred['yhat'], squared=False)"
   ]
  },
  {
   "cell_type": "code",
   "execution_count": 102,
   "id": "8c6414e6-6379-48a5-b8eb-c572d6160a9a",
   "metadata": {
    "tags": []
   },
   "outputs": [
    {
     "data": {
      "text/plain": [
       "723694.2379898897"
      ]
     },
     "execution_count": 102,
     "metadata": {},
     "output_type": "execute_result"
    }
   ],
   "source": [
    "mean_baseline_rmse"
   ]
  },
  {
   "cell_type": "code",
   "execution_count": 103,
   "id": "ee2d2b5d-20c7-4bde-a9d2-6c54762ff865",
   "metadata": {
    "tags": []
   },
   "outputs": [
    {
     "data": {
      "text/plain": [
       "589653.9194779872"
      ]
     },
     "execution_count": 103,
     "metadata": {},
     "output_type": "execute_result"
    }
   ],
   "source": [
    "mean_squared_error(y, y_pred['yhat'], squared=False)"
   ]
  },
  {
   "cell_type": "code",
   "execution_count": null,
   "id": "f6951b7b-8382-4eca-b9cb-1ce46333321e",
   "metadata": {},
   "outputs": [],
   "source": []
  },
  {
   "cell_type": "code",
   "execution_count": null,
   "id": "65078c85-bf75-429c-af5f-50705cc479df",
   "metadata": {},
   "outputs": [],
   "source": []
  }
 ],
 "metadata": {
  "kernelspec": {
   "display_name": "Python 3 (ipykernel)",
   "language": "python",
   "name": "python3"
  },
  "language_info": {
   "codemirror_mode": {
    "name": "ipython",
    "version": 3
   },
   "file_extension": ".py",
   "mimetype": "text/x-python",
   "name": "python",
   "nbconvert_exporter": "python",
   "pygments_lexer": "ipython3",
   "version": "3.11.4"
  }
 },
 "nbformat": 4,
 "nbformat_minor": 5
}
